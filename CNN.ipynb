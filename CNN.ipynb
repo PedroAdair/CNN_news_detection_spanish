{
  "nbformat": 4,
  "nbformat_minor": 0,
  "metadata": {
    "colab": {
      "provenance": [],
      "collapsed_sections": [
        "iiql9-VqQnz6",
        "gaCekUYKFHyE"
      ],
      "toc_visible": true,
      "mount_file_id": "1lJZWwzbO6owcQOM8GrVSFhmBvMZlCty7",
      "authorship_tag": "ABX9TyPMZrP0z1C61+g5DRpOI71r",
      "include_colab_link": true
    },
    "kernelspec": {
      "name": "python3",
      "display_name": "Python 3"
    },
    "language_info": {
      "name": "python"
    },
    "accelerator": "TPU",
    "widgets": {
      "application/vnd.jupyter.widget-state+json": {
        "a1eb866c739c47729fc8a454d6ebaf07": {
          "model_module": "@jupyter-widgets/controls",
          "model_name": "HBoxModel",
          "model_module_version": "1.5.0",
          "state": {
            "_dom_classes": [],
            "_model_module": "@jupyter-widgets/controls",
            "_model_module_version": "1.5.0",
            "_model_name": "HBoxModel",
            "_view_count": null,
            "_view_module": "@jupyter-widgets/controls",
            "_view_module_version": "1.5.0",
            "_view_name": "HBoxView",
            "box_style": "",
            "children": [
              "IPY_MODEL_bcad8822a73d45f6ac215a2f07ba33c7",
              "IPY_MODEL_0b4063f0696b4971a800658ba4bcfa8d",
              "IPY_MODEL_80cdd7fc140f4bb9a8cad501fd0e6298"
            ],
            "layout": "IPY_MODEL_4c301e2db0cf4476a15632be2f46ba8d"
          }
        },
        "bcad8822a73d45f6ac215a2f07ba33c7": {
          "model_module": "@jupyter-widgets/controls",
          "model_name": "HTMLModel",
          "model_module_version": "1.5.0",
          "state": {
            "_dom_classes": [],
            "_model_module": "@jupyter-widgets/controls",
            "_model_module_version": "1.5.0",
            "_model_name": "HTMLModel",
            "_view_count": null,
            "_view_module": "@jupyter-widgets/controls",
            "_view_module_version": "1.5.0",
            "_view_name": "HTMLView",
            "description": "",
            "description_tooltip": null,
            "layout": "IPY_MODEL_35c13abd757b4c94924d4a87a86517fb",
            "placeholder": "​",
            "style": "IPY_MODEL_1598e64f2ee24e9f92c0aa3b5cd68330",
            "value": ""
          }
        },
        "0b4063f0696b4971a800658ba4bcfa8d": {
          "model_module": "@jupyter-widgets/controls",
          "model_name": "FloatProgressModel",
          "model_module_version": "1.5.0",
          "state": {
            "_dom_classes": [],
            "_model_module": "@jupyter-widgets/controls",
            "_model_module_version": "1.5.0",
            "_model_name": "FloatProgressModel",
            "_view_count": null,
            "_view_module": "@jupyter-widgets/controls",
            "_view_module_version": "1.5.0",
            "_view_name": "ProgressView",
            "bar_style": "success",
            "description": "",
            "description_tooltip": null,
            "layout": "IPY_MODEL_c8aeff43d89d41a2969359fa93679297",
            "max": 1,
            "min": 0,
            "orientation": "horizontal",
            "style": "IPY_MODEL_7f3c10a8332d46f5ad271e2e04d73ae9",
            "value": 1
          }
        },
        "80cdd7fc140f4bb9a8cad501fd0e6298": {
          "model_module": "@jupyter-widgets/controls",
          "model_name": "HTMLModel",
          "model_module_version": "1.5.0",
          "state": {
            "_dom_classes": [],
            "_model_module": "@jupyter-widgets/controls",
            "_model_module_version": "1.5.0",
            "_model_name": "HTMLModel",
            "_view_count": null,
            "_view_module": "@jupyter-widgets/controls",
            "_view_module_version": "1.5.0",
            "_view_name": "HTMLView",
            "description": "",
            "description_tooltip": null,
            "layout": "IPY_MODEL_4bed0a3473254ad29facf2df659f52fc",
            "placeholder": "​",
            "style": "IPY_MODEL_a0c12597ef874ced8c6447f4188636e1",
            "value": " 1313423/? [00:35&lt;00:00, 43901.22it/s]"
          }
        },
        "4c301e2db0cf4476a15632be2f46ba8d": {
          "model_module": "@jupyter-widgets/base",
          "model_name": "LayoutModel",
          "model_module_version": "1.2.0",
          "state": {
            "_model_module": "@jupyter-widgets/base",
            "_model_module_version": "1.2.0",
            "_model_name": "LayoutModel",
            "_view_count": null,
            "_view_module": "@jupyter-widgets/base",
            "_view_module_version": "1.2.0",
            "_view_name": "LayoutView",
            "align_content": null,
            "align_items": null,
            "align_self": null,
            "border": null,
            "bottom": null,
            "display": null,
            "flex": null,
            "flex_flow": null,
            "grid_area": null,
            "grid_auto_columns": null,
            "grid_auto_flow": null,
            "grid_auto_rows": null,
            "grid_column": null,
            "grid_gap": null,
            "grid_row": null,
            "grid_template_areas": null,
            "grid_template_columns": null,
            "grid_template_rows": null,
            "height": null,
            "justify_content": null,
            "justify_items": null,
            "left": null,
            "margin": null,
            "max_height": null,
            "max_width": null,
            "min_height": null,
            "min_width": null,
            "object_fit": null,
            "object_position": null,
            "order": null,
            "overflow": null,
            "overflow_x": null,
            "overflow_y": null,
            "padding": null,
            "right": null,
            "top": null,
            "visibility": null,
            "width": null
          }
        },
        "35c13abd757b4c94924d4a87a86517fb": {
          "model_module": "@jupyter-widgets/base",
          "model_name": "LayoutModel",
          "model_module_version": "1.2.0",
          "state": {
            "_model_module": "@jupyter-widgets/base",
            "_model_module_version": "1.2.0",
            "_model_name": "LayoutModel",
            "_view_count": null,
            "_view_module": "@jupyter-widgets/base",
            "_view_module_version": "1.2.0",
            "_view_name": "LayoutView",
            "align_content": null,
            "align_items": null,
            "align_self": null,
            "border": null,
            "bottom": null,
            "display": null,
            "flex": null,
            "flex_flow": null,
            "grid_area": null,
            "grid_auto_columns": null,
            "grid_auto_flow": null,
            "grid_auto_rows": null,
            "grid_column": null,
            "grid_gap": null,
            "grid_row": null,
            "grid_template_areas": null,
            "grid_template_columns": null,
            "grid_template_rows": null,
            "height": null,
            "justify_content": null,
            "justify_items": null,
            "left": null,
            "margin": null,
            "max_height": null,
            "max_width": null,
            "min_height": null,
            "min_width": null,
            "object_fit": null,
            "object_position": null,
            "order": null,
            "overflow": null,
            "overflow_x": null,
            "overflow_y": null,
            "padding": null,
            "right": null,
            "top": null,
            "visibility": null,
            "width": null
          }
        },
        "1598e64f2ee24e9f92c0aa3b5cd68330": {
          "model_module": "@jupyter-widgets/controls",
          "model_name": "DescriptionStyleModel",
          "model_module_version": "1.5.0",
          "state": {
            "_model_module": "@jupyter-widgets/controls",
            "_model_module_version": "1.5.0",
            "_model_name": "DescriptionStyleModel",
            "_view_count": null,
            "_view_module": "@jupyter-widgets/base",
            "_view_module_version": "1.2.0",
            "_view_name": "StyleView",
            "description_width": ""
          }
        },
        "c8aeff43d89d41a2969359fa93679297": {
          "model_module": "@jupyter-widgets/base",
          "model_name": "LayoutModel",
          "model_module_version": "1.2.0",
          "state": {
            "_model_module": "@jupyter-widgets/base",
            "_model_module_version": "1.2.0",
            "_model_name": "LayoutModel",
            "_view_count": null,
            "_view_module": "@jupyter-widgets/base",
            "_view_module_version": "1.2.0",
            "_view_name": "LayoutView",
            "align_content": null,
            "align_items": null,
            "align_self": null,
            "border": null,
            "bottom": null,
            "display": null,
            "flex": null,
            "flex_flow": null,
            "grid_area": null,
            "grid_auto_columns": null,
            "grid_auto_flow": null,
            "grid_auto_rows": null,
            "grid_column": null,
            "grid_gap": null,
            "grid_row": null,
            "grid_template_areas": null,
            "grid_template_columns": null,
            "grid_template_rows": null,
            "height": null,
            "justify_content": null,
            "justify_items": null,
            "left": null,
            "margin": null,
            "max_height": null,
            "max_width": null,
            "min_height": null,
            "min_width": null,
            "object_fit": null,
            "object_position": null,
            "order": null,
            "overflow": null,
            "overflow_x": null,
            "overflow_y": null,
            "padding": null,
            "right": null,
            "top": null,
            "visibility": null,
            "width": "20px"
          }
        },
        "7f3c10a8332d46f5ad271e2e04d73ae9": {
          "model_module": "@jupyter-widgets/controls",
          "model_name": "ProgressStyleModel",
          "model_module_version": "1.5.0",
          "state": {
            "_model_module": "@jupyter-widgets/controls",
            "_model_module_version": "1.5.0",
            "_model_name": "ProgressStyleModel",
            "_view_count": null,
            "_view_module": "@jupyter-widgets/base",
            "_view_module_version": "1.2.0",
            "_view_name": "StyleView",
            "bar_color": null,
            "description_width": ""
          }
        },
        "4bed0a3473254ad29facf2df659f52fc": {
          "model_module": "@jupyter-widgets/base",
          "model_name": "LayoutModel",
          "model_module_version": "1.2.0",
          "state": {
            "_model_module": "@jupyter-widgets/base",
            "_model_module_version": "1.2.0",
            "_model_name": "LayoutModel",
            "_view_count": null,
            "_view_module": "@jupyter-widgets/base",
            "_view_module_version": "1.2.0",
            "_view_name": "LayoutView",
            "align_content": null,
            "align_items": null,
            "align_self": null,
            "border": null,
            "bottom": null,
            "display": null,
            "flex": null,
            "flex_flow": null,
            "grid_area": null,
            "grid_auto_columns": null,
            "grid_auto_flow": null,
            "grid_auto_rows": null,
            "grid_column": null,
            "grid_gap": null,
            "grid_row": null,
            "grid_template_areas": null,
            "grid_template_columns": null,
            "grid_template_rows": null,
            "height": null,
            "justify_content": null,
            "justify_items": null,
            "left": null,
            "margin": null,
            "max_height": null,
            "max_width": null,
            "min_height": null,
            "min_width": null,
            "object_fit": null,
            "object_position": null,
            "order": null,
            "overflow": null,
            "overflow_x": null,
            "overflow_y": null,
            "padding": null,
            "right": null,
            "top": null,
            "visibility": null,
            "width": null
          }
        },
        "a0c12597ef874ced8c6447f4188636e1": {
          "model_module": "@jupyter-widgets/controls",
          "model_name": "DescriptionStyleModel",
          "model_module_version": "1.5.0",
          "state": {
            "_model_module": "@jupyter-widgets/controls",
            "_model_module_version": "1.5.0",
            "_model_name": "DescriptionStyleModel",
            "_view_count": null,
            "_view_module": "@jupyter-widgets/base",
            "_view_module_version": "1.2.0",
            "_view_name": "StyleView",
            "description_width": ""
          }
        },
        "fa48a8292f114990b92ea448ad25482d": {
          "model_module": "@jupyter-widgets/controls",
          "model_name": "HBoxModel",
          "model_module_version": "1.5.0",
          "state": {
            "_dom_classes": [],
            "_model_module": "@jupyter-widgets/controls",
            "_model_module_version": "1.5.0",
            "_model_name": "HBoxModel",
            "_view_count": null,
            "_view_module": "@jupyter-widgets/controls",
            "_view_module_version": "1.5.0",
            "_view_name": "HBoxView",
            "box_style": "",
            "children": [
              "IPY_MODEL_7a5770c1283540429a6a433e3ccfddf9",
              "IPY_MODEL_ae4a9979957f4b87bcd8b9787496f673",
              "IPY_MODEL_ba54ea504bc14ce99c1e7358aa356d91"
            ],
            "layout": "IPY_MODEL_38a0a273ac2e4558a2e8fec1f4059bb3"
          }
        },
        "7a5770c1283540429a6a433e3ccfddf9": {
          "model_module": "@jupyter-widgets/controls",
          "model_name": "HTMLModel",
          "model_module_version": "1.5.0",
          "state": {
            "_dom_classes": [],
            "_model_module": "@jupyter-widgets/controls",
            "_model_module_version": "1.5.0",
            "_model_name": "HTMLModel",
            "_view_count": null,
            "_view_module": "@jupyter-widgets/controls",
            "_view_module_version": "1.5.0",
            "_view_name": "HTMLView",
            "description": "",
            "description_tooltip": null,
            "layout": "IPY_MODEL_79355033284a488aa67819fb2d9b36f3",
            "placeholder": "​",
            "style": "IPY_MODEL_70dc294a06c64f7ab3b548185ea6481f",
            "value": ""
          }
        },
        "ae4a9979957f4b87bcd8b9787496f673": {
          "model_module": "@jupyter-widgets/controls",
          "model_name": "FloatProgressModel",
          "model_module_version": "1.5.0",
          "state": {
            "_dom_classes": [],
            "_model_module": "@jupyter-widgets/controls",
            "_model_module_version": "1.5.0",
            "_model_name": "FloatProgressModel",
            "_view_count": null,
            "_view_module": "@jupyter-widgets/controls",
            "_view_module_version": "1.5.0",
            "_view_name": "ProgressView",
            "bar_style": "success",
            "description": "",
            "description_tooltip": null,
            "layout": "IPY_MODEL_afbdbe61146d44aa95ac0009db99bf6e",
            "max": 1,
            "min": 0,
            "orientation": "horizontal",
            "style": "IPY_MODEL_2f87c3758a08422a9a065330443198ce",
            "value": 1
          }
        },
        "ba54ea504bc14ce99c1e7358aa356d91": {
          "model_module": "@jupyter-widgets/controls",
          "model_name": "HTMLModel",
          "model_module_version": "1.5.0",
          "state": {
            "_dom_classes": [],
            "_model_module": "@jupyter-widgets/controls",
            "_model_module_version": "1.5.0",
            "_model_name": "HTMLModel",
            "_view_count": null,
            "_view_module": "@jupyter-widgets/controls",
            "_view_module_version": "1.5.0",
            "_view_name": "HTMLView",
            "description": "",
            "description_tooltip": null,
            "layout": "IPY_MODEL_000c16783e3543d9a2580970f2c14ee7",
            "placeholder": "​",
            "style": "IPY_MODEL_0ab103f85b6a4803adf7bbe63f47b9c0",
            "value": " 1000653/? [00:33&lt;00:00, 49507.64it/s]"
          }
        },
        "38a0a273ac2e4558a2e8fec1f4059bb3": {
          "model_module": "@jupyter-widgets/base",
          "model_name": "LayoutModel",
          "model_module_version": "1.2.0",
          "state": {
            "_model_module": "@jupyter-widgets/base",
            "_model_module_version": "1.2.0",
            "_model_name": "LayoutModel",
            "_view_count": null,
            "_view_module": "@jupyter-widgets/base",
            "_view_module_version": "1.2.0",
            "_view_name": "LayoutView",
            "align_content": null,
            "align_items": null,
            "align_self": null,
            "border": null,
            "bottom": null,
            "display": null,
            "flex": null,
            "flex_flow": null,
            "grid_area": null,
            "grid_auto_columns": null,
            "grid_auto_flow": null,
            "grid_auto_rows": null,
            "grid_column": null,
            "grid_gap": null,
            "grid_row": null,
            "grid_template_areas": null,
            "grid_template_columns": null,
            "grid_template_rows": null,
            "height": null,
            "justify_content": null,
            "justify_items": null,
            "left": null,
            "margin": null,
            "max_height": null,
            "max_width": null,
            "min_height": null,
            "min_width": null,
            "object_fit": null,
            "object_position": null,
            "order": null,
            "overflow": null,
            "overflow_x": null,
            "overflow_y": null,
            "padding": null,
            "right": null,
            "top": null,
            "visibility": null,
            "width": null
          }
        },
        "79355033284a488aa67819fb2d9b36f3": {
          "model_module": "@jupyter-widgets/base",
          "model_name": "LayoutModel",
          "model_module_version": "1.2.0",
          "state": {
            "_model_module": "@jupyter-widgets/base",
            "_model_module_version": "1.2.0",
            "_model_name": "LayoutModel",
            "_view_count": null,
            "_view_module": "@jupyter-widgets/base",
            "_view_module_version": "1.2.0",
            "_view_name": "LayoutView",
            "align_content": null,
            "align_items": null,
            "align_self": null,
            "border": null,
            "bottom": null,
            "display": null,
            "flex": null,
            "flex_flow": null,
            "grid_area": null,
            "grid_auto_columns": null,
            "grid_auto_flow": null,
            "grid_auto_rows": null,
            "grid_column": null,
            "grid_gap": null,
            "grid_row": null,
            "grid_template_areas": null,
            "grid_template_columns": null,
            "grid_template_rows": null,
            "height": null,
            "justify_content": null,
            "justify_items": null,
            "left": null,
            "margin": null,
            "max_height": null,
            "max_width": null,
            "min_height": null,
            "min_width": null,
            "object_fit": null,
            "object_position": null,
            "order": null,
            "overflow": null,
            "overflow_x": null,
            "overflow_y": null,
            "padding": null,
            "right": null,
            "top": null,
            "visibility": null,
            "width": null
          }
        },
        "70dc294a06c64f7ab3b548185ea6481f": {
          "model_module": "@jupyter-widgets/controls",
          "model_name": "DescriptionStyleModel",
          "model_module_version": "1.5.0",
          "state": {
            "_model_module": "@jupyter-widgets/controls",
            "_model_module_version": "1.5.0",
            "_model_name": "DescriptionStyleModel",
            "_view_count": null,
            "_view_module": "@jupyter-widgets/base",
            "_view_module_version": "1.2.0",
            "_view_name": "StyleView",
            "description_width": ""
          }
        },
        "afbdbe61146d44aa95ac0009db99bf6e": {
          "model_module": "@jupyter-widgets/base",
          "model_name": "LayoutModel",
          "model_module_version": "1.2.0",
          "state": {
            "_model_module": "@jupyter-widgets/base",
            "_model_module_version": "1.2.0",
            "_model_name": "LayoutModel",
            "_view_count": null,
            "_view_module": "@jupyter-widgets/base",
            "_view_module_version": "1.2.0",
            "_view_name": "LayoutView",
            "align_content": null,
            "align_items": null,
            "align_self": null,
            "border": null,
            "bottom": null,
            "display": null,
            "flex": null,
            "flex_flow": null,
            "grid_area": null,
            "grid_auto_columns": null,
            "grid_auto_flow": null,
            "grid_auto_rows": null,
            "grid_column": null,
            "grid_gap": null,
            "grid_row": null,
            "grid_template_areas": null,
            "grid_template_columns": null,
            "grid_template_rows": null,
            "height": null,
            "justify_content": null,
            "justify_items": null,
            "left": null,
            "margin": null,
            "max_height": null,
            "max_width": null,
            "min_height": null,
            "min_width": null,
            "object_fit": null,
            "object_position": null,
            "order": null,
            "overflow": null,
            "overflow_x": null,
            "overflow_y": null,
            "padding": null,
            "right": null,
            "top": null,
            "visibility": null,
            "width": "20px"
          }
        },
        "2f87c3758a08422a9a065330443198ce": {
          "model_module": "@jupyter-widgets/controls",
          "model_name": "ProgressStyleModel",
          "model_module_version": "1.5.0",
          "state": {
            "_model_module": "@jupyter-widgets/controls",
            "_model_module_version": "1.5.0",
            "_model_name": "ProgressStyleModel",
            "_view_count": null,
            "_view_module": "@jupyter-widgets/base",
            "_view_module_version": "1.2.0",
            "_view_name": "StyleView",
            "bar_color": null,
            "description_width": ""
          }
        },
        "000c16783e3543d9a2580970f2c14ee7": {
          "model_module": "@jupyter-widgets/base",
          "model_name": "LayoutModel",
          "model_module_version": "1.2.0",
          "state": {
            "_model_module": "@jupyter-widgets/base",
            "_model_module_version": "1.2.0",
            "_model_name": "LayoutModel",
            "_view_count": null,
            "_view_module": "@jupyter-widgets/base",
            "_view_module_version": "1.2.0",
            "_view_name": "LayoutView",
            "align_content": null,
            "align_items": null,
            "align_self": null,
            "border": null,
            "bottom": null,
            "display": null,
            "flex": null,
            "flex_flow": null,
            "grid_area": null,
            "grid_auto_columns": null,
            "grid_auto_flow": null,
            "grid_auto_rows": null,
            "grid_column": null,
            "grid_gap": null,
            "grid_row": null,
            "grid_template_areas": null,
            "grid_template_columns": null,
            "grid_template_rows": null,
            "height": null,
            "justify_content": null,
            "justify_items": null,
            "left": null,
            "margin": null,
            "max_height": null,
            "max_width": null,
            "min_height": null,
            "min_width": null,
            "object_fit": null,
            "object_position": null,
            "order": null,
            "overflow": null,
            "overflow_x": null,
            "overflow_y": null,
            "padding": null,
            "right": null,
            "top": null,
            "visibility": null,
            "width": null
          }
        },
        "0ab103f85b6a4803adf7bbe63f47b9c0": {
          "model_module": "@jupyter-widgets/controls",
          "model_name": "DescriptionStyleModel",
          "model_module_version": "1.5.0",
          "state": {
            "_model_module": "@jupyter-widgets/controls",
            "_model_module_version": "1.5.0",
            "_model_name": "DescriptionStyleModel",
            "_view_count": null,
            "_view_module": "@jupyter-widgets/base",
            "_view_module_version": "1.2.0",
            "_view_name": "StyleView",
            "description_width": ""
          }
        },
        "b149f4742540476e81ba7304309c929c": {
          "model_module": "@jupyter-widgets/controls",
          "model_name": "HBoxModel",
          "model_module_version": "1.5.0",
          "state": {
            "_dom_classes": [],
            "_model_module": "@jupyter-widgets/controls",
            "_model_module_version": "1.5.0",
            "_model_name": "HBoxModel",
            "_view_count": null,
            "_view_module": "@jupyter-widgets/controls",
            "_view_module_version": "1.5.0",
            "_view_name": "HBoxView",
            "box_style": "",
            "children": [
              "IPY_MODEL_cf386b9312544eedbaf38be38705d34c",
              "IPY_MODEL_d1a3b56565ef4cba919827919de07445",
              "IPY_MODEL_f1040c24da6b45e9b8750dc87fa7fe84"
            ],
            "layout": "IPY_MODEL_0060a66d82384255aee099b34361f719"
          }
        },
        "cf386b9312544eedbaf38be38705d34c": {
          "model_module": "@jupyter-widgets/controls",
          "model_name": "HTMLModel",
          "model_module_version": "1.5.0",
          "state": {
            "_dom_classes": [],
            "_model_module": "@jupyter-widgets/controls",
            "_model_module_version": "1.5.0",
            "_model_name": "HTMLModel",
            "_view_count": null,
            "_view_module": "@jupyter-widgets/controls",
            "_view_module_version": "1.5.0",
            "_view_name": "HTMLView",
            "description": "",
            "description_tooltip": null,
            "layout": "IPY_MODEL_c62efa944dc74a4e870fb6e5c53bdd61",
            "placeholder": "​",
            "style": "IPY_MODEL_0506db6c326b44db991c65f2bcc38f37",
            "value": ""
          }
        },
        "d1a3b56565ef4cba919827919de07445": {
          "model_module": "@jupyter-widgets/controls",
          "model_name": "FloatProgressModel",
          "model_module_version": "1.5.0",
          "state": {
            "_dom_classes": [],
            "_model_module": "@jupyter-widgets/controls",
            "_model_module_version": "1.5.0",
            "_model_name": "FloatProgressModel",
            "_view_count": null,
            "_view_module": "@jupyter-widgets/controls",
            "_view_module_version": "1.5.0",
            "_view_name": "ProgressView",
            "bar_style": "success",
            "description": "",
            "description_tooltip": null,
            "layout": "IPY_MODEL_1aebfae853a441bf8e95fccbf1d4063d",
            "max": 1,
            "min": 0,
            "orientation": "horizontal",
            "style": "IPY_MODEL_5f7de3d32a05427286c6369cdb30aae9",
            "value": 1
          }
        },
        "f1040c24da6b45e9b8750dc87fa7fe84": {
          "model_module": "@jupyter-widgets/controls",
          "model_name": "HTMLModel",
          "model_module_version": "1.5.0",
          "state": {
            "_dom_classes": [],
            "_model_module": "@jupyter-widgets/controls",
            "_model_module_version": "1.5.0",
            "_model_name": "HTMLModel",
            "_view_count": null,
            "_view_module": "@jupyter-widgets/controls",
            "_view_module_version": "1.5.0",
            "_view_name": "HTMLView",
            "description": "",
            "description_tooltip": null,
            "layout": "IPY_MODEL_485cb7004bb5465d86cc055a038575d1",
            "placeholder": "​",
            "style": "IPY_MODEL_8ec2ab46e6c84589813ca5fecbefb40e",
            "value": " 855380/? [00:23&lt;00:00, 44045.32it/s]"
          }
        },
        "0060a66d82384255aee099b34361f719": {
          "model_module": "@jupyter-widgets/base",
          "model_name": "LayoutModel",
          "model_module_version": "1.2.0",
          "state": {
            "_model_module": "@jupyter-widgets/base",
            "_model_module_version": "1.2.0",
            "_model_name": "LayoutModel",
            "_view_count": null,
            "_view_module": "@jupyter-widgets/base",
            "_view_module_version": "1.2.0",
            "_view_name": "LayoutView",
            "align_content": null,
            "align_items": null,
            "align_self": null,
            "border": null,
            "bottom": null,
            "display": null,
            "flex": null,
            "flex_flow": null,
            "grid_area": null,
            "grid_auto_columns": null,
            "grid_auto_flow": null,
            "grid_auto_rows": null,
            "grid_column": null,
            "grid_gap": null,
            "grid_row": null,
            "grid_template_areas": null,
            "grid_template_columns": null,
            "grid_template_rows": null,
            "height": null,
            "justify_content": null,
            "justify_items": null,
            "left": null,
            "margin": null,
            "max_height": null,
            "max_width": null,
            "min_height": null,
            "min_width": null,
            "object_fit": null,
            "object_position": null,
            "order": null,
            "overflow": null,
            "overflow_x": null,
            "overflow_y": null,
            "padding": null,
            "right": null,
            "top": null,
            "visibility": null,
            "width": null
          }
        },
        "c62efa944dc74a4e870fb6e5c53bdd61": {
          "model_module": "@jupyter-widgets/base",
          "model_name": "LayoutModel",
          "model_module_version": "1.2.0",
          "state": {
            "_model_module": "@jupyter-widgets/base",
            "_model_module_version": "1.2.0",
            "_model_name": "LayoutModel",
            "_view_count": null,
            "_view_module": "@jupyter-widgets/base",
            "_view_module_version": "1.2.0",
            "_view_name": "LayoutView",
            "align_content": null,
            "align_items": null,
            "align_self": null,
            "border": null,
            "bottom": null,
            "display": null,
            "flex": null,
            "flex_flow": null,
            "grid_area": null,
            "grid_auto_columns": null,
            "grid_auto_flow": null,
            "grid_auto_rows": null,
            "grid_column": null,
            "grid_gap": null,
            "grid_row": null,
            "grid_template_areas": null,
            "grid_template_columns": null,
            "grid_template_rows": null,
            "height": null,
            "justify_content": null,
            "justify_items": null,
            "left": null,
            "margin": null,
            "max_height": null,
            "max_width": null,
            "min_height": null,
            "min_width": null,
            "object_fit": null,
            "object_position": null,
            "order": null,
            "overflow": null,
            "overflow_x": null,
            "overflow_y": null,
            "padding": null,
            "right": null,
            "top": null,
            "visibility": null,
            "width": null
          }
        },
        "0506db6c326b44db991c65f2bcc38f37": {
          "model_module": "@jupyter-widgets/controls",
          "model_name": "DescriptionStyleModel",
          "model_module_version": "1.5.0",
          "state": {
            "_model_module": "@jupyter-widgets/controls",
            "_model_module_version": "1.5.0",
            "_model_name": "DescriptionStyleModel",
            "_view_count": null,
            "_view_module": "@jupyter-widgets/base",
            "_view_module_version": "1.2.0",
            "_view_name": "StyleView",
            "description_width": ""
          }
        },
        "1aebfae853a441bf8e95fccbf1d4063d": {
          "model_module": "@jupyter-widgets/base",
          "model_name": "LayoutModel",
          "model_module_version": "1.2.0",
          "state": {
            "_model_module": "@jupyter-widgets/base",
            "_model_module_version": "1.2.0",
            "_model_name": "LayoutModel",
            "_view_count": null,
            "_view_module": "@jupyter-widgets/base",
            "_view_module_version": "1.2.0",
            "_view_name": "LayoutView",
            "align_content": null,
            "align_items": null,
            "align_self": null,
            "border": null,
            "bottom": null,
            "display": null,
            "flex": null,
            "flex_flow": null,
            "grid_area": null,
            "grid_auto_columns": null,
            "grid_auto_flow": null,
            "grid_auto_rows": null,
            "grid_column": null,
            "grid_gap": null,
            "grid_row": null,
            "grid_template_areas": null,
            "grid_template_columns": null,
            "grid_template_rows": null,
            "height": null,
            "justify_content": null,
            "justify_items": null,
            "left": null,
            "margin": null,
            "max_height": null,
            "max_width": null,
            "min_height": null,
            "min_width": null,
            "object_fit": null,
            "object_position": null,
            "order": null,
            "overflow": null,
            "overflow_x": null,
            "overflow_y": null,
            "padding": null,
            "right": null,
            "top": null,
            "visibility": null,
            "width": "20px"
          }
        },
        "5f7de3d32a05427286c6369cdb30aae9": {
          "model_module": "@jupyter-widgets/controls",
          "model_name": "ProgressStyleModel",
          "model_module_version": "1.5.0",
          "state": {
            "_model_module": "@jupyter-widgets/controls",
            "_model_module_version": "1.5.0",
            "_model_name": "ProgressStyleModel",
            "_view_count": null,
            "_view_module": "@jupyter-widgets/base",
            "_view_module_version": "1.2.0",
            "_view_name": "StyleView",
            "bar_color": null,
            "description_width": ""
          }
        },
        "485cb7004bb5465d86cc055a038575d1": {
          "model_module": "@jupyter-widgets/base",
          "model_name": "LayoutModel",
          "model_module_version": "1.2.0",
          "state": {
            "_model_module": "@jupyter-widgets/base",
            "_model_module_version": "1.2.0",
            "_model_name": "LayoutModel",
            "_view_count": null,
            "_view_module": "@jupyter-widgets/base",
            "_view_module_version": "1.2.0",
            "_view_name": "LayoutView",
            "align_content": null,
            "align_items": null,
            "align_self": null,
            "border": null,
            "bottom": null,
            "display": null,
            "flex": null,
            "flex_flow": null,
            "grid_area": null,
            "grid_auto_columns": null,
            "grid_auto_flow": null,
            "grid_auto_rows": null,
            "grid_column": null,
            "grid_gap": null,
            "grid_row": null,
            "grid_template_areas": null,
            "grid_template_columns": null,
            "grid_template_rows": null,
            "height": null,
            "justify_content": null,
            "justify_items": null,
            "left": null,
            "margin": null,
            "max_height": null,
            "max_width": null,
            "min_height": null,
            "min_width": null,
            "object_fit": null,
            "object_position": null,
            "order": null,
            "overflow": null,
            "overflow_x": null,
            "overflow_y": null,
            "padding": null,
            "right": null,
            "top": null,
            "visibility": null,
            "width": null
          }
        },
        "8ec2ab46e6c84589813ca5fecbefb40e": {
          "model_module": "@jupyter-widgets/controls",
          "model_name": "DescriptionStyleModel",
          "model_module_version": "1.5.0",
          "state": {
            "_model_module": "@jupyter-widgets/controls",
            "_model_module_version": "1.5.0",
            "_model_name": "DescriptionStyleModel",
            "_view_count": null,
            "_view_module": "@jupyter-widgets/base",
            "_view_module_version": "1.2.0",
            "_view_name": "StyleView",
            "description_width": ""
          }
        },
        "8244c6d5bac14135a24caba0cf1e342d": {
          "model_module": "@jupyter-widgets/controls",
          "model_name": "HBoxModel",
          "model_module_version": "1.5.0",
          "state": {
            "_dom_classes": [],
            "_model_module": "@jupyter-widgets/controls",
            "_model_module_version": "1.5.0",
            "_model_name": "HBoxModel",
            "_view_count": null,
            "_view_module": "@jupyter-widgets/controls",
            "_view_module_version": "1.5.0",
            "_view_name": "HBoxView",
            "box_style": "",
            "children": [
              "IPY_MODEL_a18d4460d7304ee8b4938c499ba27bec",
              "IPY_MODEL_3f3ef001b87947c48ba5356ff2939210",
              "IPY_MODEL_31ad6afeefe04924a5db6b90b6a0bda9"
            ],
            "layout": "IPY_MODEL_4710d406494d4094aa744cbc46333da4"
          }
        },
        "a18d4460d7304ee8b4938c499ba27bec": {
          "model_module": "@jupyter-widgets/controls",
          "model_name": "HTMLModel",
          "model_module_version": "1.5.0",
          "state": {
            "_dom_classes": [],
            "_model_module": "@jupyter-widgets/controls",
            "_model_module_version": "1.5.0",
            "_model_name": "HTMLModel",
            "_view_count": null,
            "_view_module": "@jupyter-widgets/controls",
            "_view_module_version": "1.5.0",
            "_view_name": "HTMLView",
            "description": "",
            "description_tooltip": null,
            "layout": "IPY_MODEL_de531a6d081f4bf183b90b9201334257",
            "placeholder": "​",
            "style": "IPY_MODEL_db89aecde53d4d43bcc806217bdf2077",
            "value": ""
          }
        },
        "3f3ef001b87947c48ba5356ff2939210": {
          "model_module": "@jupyter-widgets/controls",
          "model_name": "FloatProgressModel",
          "model_module_version": "1.5.0",
          "state": {
            "_dom_classes": [],
            "_model_module": "@jupyter-widgets/controls",
            "_model_module_version": "1.5.0",
            "_model_name": "FloatProgressModel",
            "_view_count": null,
            "_view_module": "@jupyter-widgets/controls",
            "_view_module_version": "1.5.0",
            "_view_name": "ProgressView",
            "bar_style": "success",
            "description": "",
            "description_tooltip": null,
            "layout": "IPY_MODEL_9a89c67e9ffc4e3fa042df290e9be5d0",
            "max": 1,
            "min": 0,
            "orientation": "horizontal",
            "style": "IPY_MODEL_341a7b6d5bb5412bb5e63f1e73e1c9ae",
            "value": 1
          }
        },
        "31ad6afeefe04924a5db6b90b6a0bda9": {
          "model_module": "@jupyter-widgets/controls",
          "model_name": "HTMLModel",
          "model_module_version": "1.5.0",
          "state": {
            "_dom_classes": [],
            "_model_module": "@jupyter-widgets/controls",
            "_model_module_version": "1.5.0",
            "_model_name": "HTMLModel",
            "_view_count": null,
            "_view_module": "@jupyter-widgets/controls",
            "_view_module_version": "1.5.0",
            "_view_name": "HTMLView",
            "description": "",
            "description_tooltip": null,
            "layout": "IPY_MODEL_671cbbe14a594484b159264cb328ffbf",
            "placeholder": "​",
            "style": "IPY_MODEL_17e14ba51bb64189978c74f85020abc4",
            "value": " 1313423/? [00:59&lt;00:00, 30946.29it/s]"
          }
        },
        "4710d406494d4094aa744cbc46333da4": {
          "model_module": "@jupyter-widgets/base",
          "model_name": "LayoutModel",
          "model_module_version": "1.2.0",
          "state": {
            "_model_module": "@jupyter-widgets/base",
            "_model_module_version": "1.2.0",
            "_model_name": "LayoutModel",
            "_view_count": null,
            "_view_module": "@jupyter-widgets/base",
            "_view_module_version": "1.2.0",
            "_view_name": "LayoutView",
            "align_content": null,
            "align_items": null,
            "align_self": null,
            "border": null,
            "bottom": null,
            "display": null,
            "flex": null,
            "flex_flow": null,
            "grid_area": null,
            "grid_auto_columns": null,
            "grid_auto_flow": null,
            "grid_auto_rows": null,
            "grid_column": null,
            "grid_gap": null,
            "grid_row": null,
            "grid_template_areas": null,
            "grid_template_columns": null,
            "grid_template_rows": null,
            "height": null,
            "justify_content": null,
            "justify_items": null,
            "left": null,
            "margin": null,
            "max_height": null,
            "max_width": null,
            "min_height": null,
            "min_width": null,
            "object_fit": null,
            "object_position": null,
            "order": null,
            "overflow": null,
            "overflow_x": null,
            "overflow_y": null,
            "padding": null,
            "right": null,
            "top": null,
            "visibility": null,
            "width": null
          }
        },
        "de531a6d081f4bf183b90b9201334257": {
          "model_module": "@jupyter-widgets/base",
          "model_name": "LayoutModel",
          "model_module_version": "1.2.0",
          "state": {
            "_model_module": "@jupyter-widgets/base",
            "_model_module_version": "1.2.0",
            "_model_name": "LayoutModel",
            "_view_count": null,
            "_view_module": "@jupyter-widgets/base",
            "_view_module_version": "1.2.0",
            "_view_name": "LayoutView",
            "align_content": null,
            "align_items": null,
            "align_self": null,
            "border": null,
            "bottom": null,
            "display": null,
            "flex": null,
            "flex_flow": null,
            "grid_area": null,
            "grid_auto_columns": null,
            "grid_auto_flow": null,
            "grid_auto_rows": null,
            "grid_column": null,
            "grid_gap": null,
            "grid_row": null,
            "grid_template_areas": null,
            "grid_template_columns": null,
            "grid_template_rows": null,
            "height": null,
            "justify_content": null,
            "justify_items": null,
            "left": null,
            "margin": null,
            "max_height": null,
            "max_width": null,
            "min_height": null,
            "min_width": null,
            "object_fit": null,
            "object_position": null,
            "order": null,
            "overflow": null,
            "overflow_x": null,
            "overflow_y": null,
            "padding": null,
            "right": null,
            "top": null,
            "visibility": null,
            "width": null
          }
        },
        "db89aecde53d4d43bcc806217bdf2077": {
          "model_module": "@jupyter-widgets/controls",
          "model_name": "DescriptionStyleModel",
          "model_module_version": "1.5.0",
          "state": {
            "_model_module": "@jupyter-widgets/controls",
            "_model_module_version": "1.5.0",
            "_model_name": "DescriptionStyleModel",
            "_view_count": null,
            "_view_module": "@jupyter-widgets/base",
            "_view_module_version": "1.2.0",
            "_view_name": "StyleView",
            "description_width": ""
          }
        },
        "9a89c67e9ffc4e3fa042df290e9be5d0": {
          "model_module": "@jupyter-widgets/base",
          "model_name": "LayoutModel",
          "model_module_version": "1.2.0",
          "state": {
            "_model_module": "@jupyter-widgets/base",
            "_model_module_version": "1.2.0",
            "_model_name": "LayoutModel",
            "_view_count": null,
            "_view_module": "@jupyter-widgets/base",
            "_view_module_version": "1.2.0",
            "_view_name": "LayoutView",
            "align_content": null,
            "align_items": null,
            "align_self": null,
            "border": null,
            "bottom": null,
            "display": null,
            "flex": null,
            "flex_flow": null,
            "grid_area": null,
            "grid_auto_columns": null,
            "grid_auto_flow": null,
            "grid_auto_rows": null,
            "grid_column": null,
            "grid_gap": null,
            "grid_row": null,
            "grid_template_areas": null,
            "grid_template_columns": null,
            "grid_template_rows": null,
            "height": null,
            "justify_content": null,
            "justify_items": null,
            "left": null,
            "margin": null,
            "max_height": null,
            "max_width": null,
            "min_height": null,
            "min_width": null,
            "object_fit": null,
            "object_position": null,
            "order": null,
            "overflow": null,
            "overflow_x": null,
            "overflow_y": null,
            "padding": null,
            "right": null,
            "top": null,
            "visibility": null,
            "width": "20px"
          }
        },
        "341a7b6d5bb5412bb5e63f1e73e1c9ae": {
          "model_module": "@jupyter-widgets/controls",
          "model_name": "ProgressStyleModel",
          "model_module_version": "1.5.0",
          "state": {
            "_model_module": "@jupyter-widgets/controls",
            "_model_module_version": "1.5.0",
            "_model_name": "ProgressStyleModel",
            "_view_count": null,
            "_view_module": "@jupyter-widgets/base",
            "_view_module_version": "1.2.0",
            "_view_name": "StyleView",
            "bar_color": null,
            "description_width": ""
          }
        },
        "671cbbe14a594484b159264cb328ffbf": {
          "model_module": "@jupyter-widgets/base",
          "model_name": "LayoutModel",
          "model_module_version": "1.2.0",
          "state": {
            "_model_module": "@jupyter-widgets/base",
            "_model_module_version": "1.2.0",
            "_model_name": "LayoutModel",
            "_view_count": null,
            "_view_module": "@jupyter-widgets/base",
            "_view_module_version": "1.2.0",
            "_view_name": "LayoutView",
            "align_content": null,
            "align_items": null,
            "align_self": null,
            "border": null,
            "bottom": null,
            "display": null,
            "flex": null,
            "flex_flow": null,
            "grid_area": null,
            "grid_auto_columns": null,
            "grid_auto_flow": null,
            "grid_auto_rows": null,
            "grid_column": null,
            "grid_gap": null,
            "grid_row": null,
            "grid_template_areas": null,
            "grid_template_columns": null,
            "grid_template_rows": null,
            "height": null,
            "justify_content": null,
            "justify_items": null,
            "left": null,
            "margin": null,
            "max_height": null,
            "max_width": null,
            "min_height": null,
            "min_width": null,
            "object_fit": null,
            "object_position": null,
            "order": null,
            "overflow": null,
            "overflow_x": null,
            "overflow_y": null,
            "padding": null,
            "right": null,
            "top": null,
            "visibility": null,
            "width": null
          }
        },
        "17e14ba51bb64189978c74f85020abc4": {
          "model_module": "@jupyter-widgets/controls",
          "model_name": "DescriptionStyleModel",
          "model_module_version": "1.5.0",
          "state": {
            "_model_module": "@jupyter-widgets/controls",
            "_model_module_version": "1.5.0",
            "_model_name": "DescriptionStyleModel",
            "_view_count": null,
            "_view_module": "@jupyter-widgets/base",
            "_view_module_version": "1.2.0",
            "_view_name": "StyleView",
            "description_width": ""
          }
        },
        "874003a43f984abca0a3ff32845f7d5b": {
          "model_module": "@jupyter-widgets/controls",
          "model_name": "HBoxModel",
          "model_module_version": "1.5.0",
          "state": {
            "_dom_classes": [],
            "_model_module": "@jupyter-widgets/controls",
            "_model_module_version": "1.5.0",
            "_model_name": "HBoxModel",
            "_view_count": null,
            "_view_module": "@jupyter-widgets/controls",
            "_view_module_version": "1.5.0",
            "_view_name": "HBoxView",
            "box_style": "",
            "children": [
              "IPY_MODEL_06d9bee2ec9b45a1b78bff8c1565014e",
              "IPY_MODEL_f7da6bdb41a0436398f181db8fd6a1de",
              "IPY_MODEL_e99b6810fc8c40659efe1c28b978a9be"
            ],
            "layout": "IPY_MODEL_6bc038238e5c434cae472a9ed073d069"
          }
        },
        "06d9bee2ec9b45a1b78bff8c1565014e": {
          "model_module": "@jupyter-widgets/controls",
          "model_name": "HTMLModel",
          "model_module_version": "1.5.0",
          "state": {
            "_dom_classes": [],
            "_model_module": "@jupyter-widgets/controls",
            "_model_module_version": "1.5.0",
            "_model_name": "HTMLModel",
            "_view_count": null,
            "_view_module": "@jupyter-widgets/controls",
            "_view_module_version": "1.5.0",
            "_view_name": "HTMLView",
            "description": "",
            "description_tooltip": null,
            "layout": "IPY_MODEL_9c400e786cd54b18952479b09d5ddcbd",
            "placeholder": "​",
            "style": "IPY_MODEL_31e11f62d03e4c27b3eef68c7eccb672",
            "value": ""
          }
        },
        "f7da6bdb41a0436398f181db8fd6a1de": {
          "model_module": "@jupyter-widgets/controls",
          "model_name": "FloatProgressModel",
          "model_module_version": "1.5.0",
          "state": {
            "_dom_classes": [],
            "_model_module": "@jupyter-widgets/controls",
            "_model_module_version": "1.5.0",
            "_model_name": "FloatProgressModel",
            "_view_count": null,
            "_view_module": "@jupyter-widgets/controls",
            "_view_module_version": "1.5.0",
            "_view_name": "ProgressView",
            "bar_style": "success",
            "description": "",
            "description_tooltip": null,
            "layout": "IPY_MODEL_44eb37ee04a541868ab9f22e77c26e4a",
            "max": 1,
            "min": 0,
            "orientation": "horizontal",
            "style": "IPY_MODEL_f32928fda1494a028db4054ac1008050",
            "value": 1
          }
        },
        "e99b6810fc8c40659efe1c28b978a9be": {
          "model_module": "@jupyter-widgets/controls",
          "model_name": "HTMLModel",
          "model_module_version": "1.5.0",
          "state": {
            "_dom_classes": [],
            "_model_module": "@jupyter-widgets/controls",
            "_model_module_version": "1.5.0",
            "_model_name": "HTMLModel",
            "_view_count": null,
            "_view_module": "@jupyter-widgets/controls",
            "_view_module_version": "1.5.0",
            "_view_name": "HTMLView",
            "description": "",
            "description_tooltip": null,
            "layout": "IPY_MODEL_831da5db3ee248e5b51a069fc1f1d47d",
            "placeholder": "​",
            "style": "IPY_MODEL_0a2949563ed341ad9ff69e860cbd6f22",
            "value": " 1000653/? [00:53&lt;00:00, 29425.05it/s]"
          }
        },
        "6bc038238e5c434cae472a9ed073d069": {
          "model_module": "@jupyter-widgets/base",
          "model_name": "LayoutModel",
          "model_module_version": "1.2.0",
          "state": {
            "_model_module": "@jupyter-widgets/base",
            "_model_module_version": "1.2.0",
            "_model_name": "LayoutModel",
            "_view_count": null,
            "_view_module": "@jupyter-widgets/base",
            "_view_module_version": "1.2.0",
            "_view_name": "LayoutView",
            "align_content": null,
            "align_items": null,
            "align_self": null,
            "border": null,
            "bottom": null,
            "display": null,
            "flex": null,
            "flex_flow": null,
            "grid_area": null,
            "grid_auto_columns": null,
            "grid_auto_flow": null,
            "grid_auto_rows": null,
            "grid_column": null,
            "grid_gap": null,
            "grid_row": null,
            "grid_template_areas": null,
            "grid_template_columns": null,
            "grid_template_rows": null,
            "height": null,
            "justify_content": null,
            "justify_items": null,
            "left": null,
            "margin": null,
            "max_height": null,
            "max_width": null,
            "min_height": null,
            "min_width": null,
            "object_fit": null,
            "object_position": null,
            "order": null,
            "overflow": null,
            "overflow_x": null,
            "overflow_y": null,
            "padding": null,
            "right": null,
            "top": null,
            "visibility": null,
            "width": null
          }
        },
        "9c400e786cd54b18952479b09d5ddcbd": {
          "model_module": "@jupyter-widgets/base",
          "model_name": "LayoutModel",
          "model_module_version": "1.2.0",
          "state": {
            "_model_module": "@jupyter-widgets/base",
            "_model_module_version": "1.2.0",
            "_model_name": "LayoutModel",
            "_view_count": null,
            "_view_module": "@jupyter-widgets/base",
            "_view_module_version": "1.2.0",
            "_view_name": "LayoutView",
            "align_content": null,
            "align_items": null,
            "align_self": null,
            "border": null,
            "bottom": null,
            "display": null,
            "flex": null,
            "flex_flow": null,
            "grid_area": null,
            "grid_auto_columns": null,
            "grid_auto_flow": null,
            "grid_auto_rows": null,
            "grid_column": null,
            "grid_gap": null,
            "grid_row": null,
            "grid_template_areas": null,
            "grid_template_columns": null,
            "grid_template_rows": null,
            "height": null,
            "justify_content": null,
            "justify_items": null,
            "left": null,
            "margin": null,
            "max_height": null,
            "max_width": null,
            "min_height": null,
            "min_width": null,
            "object_fit": null,
            "object_position": null,
            "order": null,
            "overflow": null,
            "overflow_x": null,
            "overflow_y": null,
            "padding": null,
            "right": null,
            "top": null,
            "visibility": null,
            "width": null
          }
        },
        "31e11f62d03e4c27b3eef68c7eccb672": {
          "model_module": "@jupyter-widgets/controls",
          "model_name": "DescriptionStyleModel",
          "model_module_version": "1.5.0",
          "state": {
            "_model_module": "@jupyter-widgets/controls",
            "_model_module_version": "1.5.0",
            "_model_name": "DescriptionStyleModel",
            "_view_count": null,
            "_view_module": "@jupyter-widgets/base",
            "_view_module_version": "1.2.0",
            "_view_name": "StyleView",
            "description_width": ""
          }
        },
        "44eb37ee04a541868ab9f22e77c26e4a": {
          "model_module": "@jupyter-widgets/base",
          "model_name": "LayoutModel",
          "model_module_version": "1.2.0",
          "state": {
            "_model_module": "@jupyter-widgets/base",
            "_model_module_version": "1.2.0",
            "_model_name": "LayoutModel",
            "_view_count": null,
            "_view_module": "@jupyter-widgets/base",
            "_view_module_version": "1.2.0",
            "_view_name": "LayoutView",
            "align_content": null,
            "align_items": null,
            "align_self": null,
            "border": null,
            "bottom": null,
            "display": null,
            "flex": null,
            "flex_flow": null,
            "grid_area": null,
            "grid_auto_columns": null,
            "grid_auto_flow": null,
            "grid_auto_rows": null,
            "grid_column": null,
            "grid_gap": null,
            "grid_row": null,
            "grid_template_areas": null,
            "grid_template_columns": null,
            "grid_template_rows": null,
            "height": null,
            "justify_content": null,
            "justify_items": null,
            "left": null,
            "margin": null,
            "max_height": null,
            "max_width": null,
            "min_height": null,
            "min_width": null,
            "object_fit": null,
            "object_position": null,
            "order": null,
            "overflow": null,
            "overflow_x": null,
            "overflow_y": null,
            "padding": null,
            "right": null,
            "top": null,
            "visibility": null,
            "width": "20px"
          }
        },
        "f32928fda1494a028db4054ac1008050": {
          "model_module": "@jupyter-widgets/controls",
          "model_name": "ProgressStyleModel",
          "model_module_version": "1.5.0",
          "state": {
            "_model_module": "@jupyter-widgets/controls",
            "_model_module_version": "1.5.0",
            "_model_name": "ProgressStyleModel",
            "_view_count": null,
            "_view_module": "@jupyter-widgets/base",
            "_view_module_version": "1.2.0",
            "_view_name": "StyleView",
            "bar_color": null,
            "description_width": ""
          }
        },
        "831da5db3ee248e5b51a069fc1f1d47d": {
          "model_module": "@jupyter-widgets/base",
          "model_name": "LayoutModel",
          "model_module_version": "1.2.0",
          "state": {
            "_model_module": "@jupyter-widgets/base",
            "_model_module_version": "1.2.0",
            "_model_name": "LayoutModel",
            "_view_count": null,
            "_view_module": "@jupyter-widgets/base",
            "_view_module_version": "1.2.0",
            "_view_name": "LayoutView",
            "align_content": null,
            "align_items": null,
            "align_self": null,
            "border": null,
            "bottom": null,
            "display": null,
            "flex": null,
            "flex_flow": null,
            "grid_area": null,
            "grid_auto_columns": null,
            "grid_auto_flow": null,
            "grid_auto_rows": null,
            "grid_column": null,
            "grid_gap": null,
            "grid_row": null,
            "grid_template_areas": null,
            "grid_template_columns": null,
            "grid_template_rows": null,
            "height": null,
            "justify_content": null,
            "justify_items": null,
            "left": null,
            "margin": null,
            "max_height": null,
            "max_width": null,
            "min_height": null,
            "min_width": null,
            "object_fit": null,
            "object_position": null,
            "order": null,
            "overflow": null,
            "overflow_x": null,
            "overflow_y": null,
            "padding": null,
            "right": null,
            "top": null,
            "visibility": null,
            "width": null
          }
        },
        "0a2949563ed341ad9ff69e860cbd6f22": {
          "model_module": "@jupyter-widgets/controls",
          "model_name": "DescriptionStyleModel",
          "model_module_version": "1.5.0",
          "state": {
            "_model_module": "@jupyter-widgets/controls",
            "_model_module_version": "1.5.0",
            "_model_name": "DescriptionStyleModel",
            "_view_count": null,
            "_view_module": "@jupyter-widgets/base",
            "_view_module_version": "1.2.0",
            "_view_name": "StyleView",
            "description_width": ""
          }
        },
        "f8412222b6264a47a6d6eab5a72907ae": {
          "model_module": "@jupyter-widgets/controls",
          "model_name": "HBoxModel",
          "model_module_version": "1.5.0",
          "state": {
            "_dom_classes": [],
            "_model_module": "@jupyter-widgets/controls",
            "_model_module_version": "1.5.0",
            "_model_name": "HBoxModel",
            "_view_count": null,
            "_view_module": "@jupyter-widgets/controls",
            "_view_module_version": "1.5.0",
            "_view_name": "HBoxView",
            "box_style": "",
            "children": [
              "IPY_MODEL_d445c77294b74ea8ace729a46993b9d1",
              "IPY_MODEL_f3bb82e31d894cb0a6331858501baa38",
              "IPY_MODEL_c2098d8f70ab4a29a89ccbc875aeefea"
            ],
            "layout": "IPY_MODEL_8ffd17ddcee64c308b5bdca11f4ce3cd"
          }
        },
        "d445c77294b74ea8ace729a46993b9d1": {
          "model_module": "@jupyter-widgets/controls",
          "model_name": "HTMLModel",
          "model_module_version": "1.5.0",
          "state": {
            "_dom_classes": [],
            "_model_module": "@jupyter-widgets/controls",
            "_model_module_version": "1.5.0",
            "_model_name": "HTMLModel",
            "_view_count": null,
            "_view_module": "@jupyter-widgets/controls",
            "_view_module_version": "1.5.0",
            "_view_name": "HTMLView",
            "description": "",
            "description_tooltip": null,
            "layout": "IPY_MODEL_1ea30a6965be4334941dc51cdd9781bd",
            "placeholder": "​",
            "style": "IPY_MODEL_9ab55dc54c7f4200b7a135096df95286",
            "value": ""
          }
        },
        "f3bb82e31d894cb0a6331858501baa38": {
          "model_module": "@jupyter-widgets/controls",
          "model_name": "FloatProgressModel",
          "model_module_version": "1.5.0",
          "state": {
            "_dom_classes": [],
            "_model_module": "@jupyter-widgets/controls",
            "_model_module_version": "1.5.0",
            "_model_name": "FloatProgressModel",
            "_view_count": null,
            "_view_module": "@jupyter-widgets/controls",
            "_view_module_version": "1.5.0",
            "_view_name": "ProgressView",
            "bar_style": "success",
            "description": "",
            "description_tooltip": null,
            "layout": "IPY_MODEL_acb0537c03e0442ba733ce0ce95d71ff",
            "max": 1,
            "min": 0,
            "orientation": "horizontal",
            "style": "IPY_MODEL_4f101375bc2b4c75ba28ced6dd14f002",
            "value": 1
          }
        },
        "c2098d8f70ab4a29a89ccbc875aeefea": {
          "model_module": "@jupyter-widgets/controls",
          "model_name": "HTMLModel",
          "model_module_version": "1.5.0",
          "state": {
            "_dom_classes": [],
            "_model_module": "@jupyter-widgets/controls",
            "_model_module_version": "1.5.0",
            "_model_name": "HTMLModel",
            "_view_count": null,
            "_view_module": "@jupyter-widgets/controls",
            "_view_module_version": "1.5.0",
            "_view_name": "HTMLView",
            "description": "",
            "description_tooltip": null,
            "layout": "IPY_MODEL_099d5338e46243eb99f937986f6861bc",
            "placeholder": "​",
            "style": "IPY_MODEL_652bcccfb5f848309c5994d88999f439",
            "value": " 855380/? [00:41&lt;00:00, 22557.58it/s]"
          }
        },
        "8ffd17ddcee64c308b5bdca11f4ce3cd": {
          "model_module": "@jupyter-widgets/base",
          "model_name": "LayoutModel",
          "model_module_version": "1.2.0",
          "state": {
            "_model_module": "@jupyter-widgets/base",
            "_model_module_version": "1.2.0",
            "_model_name": "LayoutModel",
            "_view_count": null,
            "_view_module": "@jupyter-widgets/base",
            "_view_module_version": "1.2.0",
            "_view_name": "LayoutView",
            "align_content": null,
            "align_items": null,
            "align_self": null,
            "border": null,
            "bottom": null,
            "display": null,
            "flex": null,
            "flex_flow": null,
            "grid_area": null,
            "grid_auto_columns": null,
            "grid_auto_flow": null,
            "grid_auto_rows": null,
            "grid_column": null,
            "grid_gap": null,
            "grid_row": null,
            "grid_template_areas": null,
            "grid_template_columns": null,
            "grid_template_rows": null,
            "height": null,
            "justify_content": null,
            "justify_items": null,
            "left": null,
            "margin": null,
            "max_height": null,
            "max_width": null,
            "min_height": null,
            "min_width": null,
            "object_fit": null,
            "object_position": null,
            "order": null,
            "overflow": null,
            "overflow_x": null,
            "overflow_y": null,
            "padding": null,
            "right": null,
            "top": null,
            "visibility": null,
            "width": null
          }
        },
        "1ea30a6965be4334941dc51cdd9781bd": {
          "model_module": "@jupyter-widgets/base",
          "model_name": "LayoutModel",
          "model_module_version": "1.2.0",
          "state": {
            "_model_module": "@jupyter-widgets/base",
            "_model_module_version": "1.2.0",
            "_model_name": "LayoutModel",
            "_view_count": null,
            "_view_module": "@jupyter-widgets/base",
            "_view_module_version": "1.2.0",
            "_view_name": "LayoutView",
            "align_content": null,
            "align_items": null,
            "align_self": null,
            "border": null,
            "bottom": null,
            "display": null,
            "flex": null,
            "flex_flow": null,
            "grid_area": null,
            "grid_auto_columns": null,
            "grid_auto_flow": null,
            "grid_auto_rows": null,
            "grid_column": null,
            "grid_gap": null,
            "grid_row": null,
            "grid_template_areas": null,
            "grid_template_columns": null,
            "grid_template_rows": null,
            "height": null,
            "justify_content": null,
            "justify_items": null,
            "left": null,
            "margin": null,
            "max_height": null,
            "max_width": null,
            "min_height": null,
            "min_width": null,
            "object_fit": null,
            "object_position": null,
            "order": null,
            "overflow": null,
            "overflow_x": null,
            "overflow_y": null,
            "padding": null,
            "right": null,
            "top": null,
            "visibility": null,
            "width": null
          }
        },
        "9ab55dc54c7f4200b7a135096df95286": {
          "model_module": "@jupyter-widgets/controls",
          "model_name": "DescriptionStyleModel",
          "model_module_version": "1.5.0",
          "state": {
            "_model_module": "@jupyter-widgets/controls",
            "_model_module_version": "1.5.0",
            "_model_name": "DescriptionStyleModel",
            "_view_count": null,
            "_view_module": "@jupyter-widgets/base",
            "_view_module_version": "1.2.0",
            "_view_name": "StyleView",
            "description_width": ""
          }
        },
        "acb0537c03e0442ba733ce0ce95d71ff": {
          "model_module": "@jupyter-widgets/base",
          "model_name": "LayoutModel",
          "model_module_version": "1.2.0",
          "state": {
            "_model_module": "@jupyter-widgets/base",
            "_model_module_version": "1.2.0",
            "_model_name": "LayoutModel",
            "_view_count": null,
            "_view_module": "@jupyter-widgets/base",
            "_view_module_version": "1.2.0",
            "_view_name": "LayoutView",
            "align_content": null,
            "align_items": null,
            "align_self": null,
            "border": null,
            "bottom": null,
            "display": null,
            "flex": null,
            "flex_flow": null,
            "grid_area": null,
            "grid_auto_columns": null,
            "grid_auto_flow": null,
            "grid_auto_rows": null,
            "grid_column": null,
            "grid_gap": null,
            "grid_row": null,
            "grid_template_areas": null,
            "grid_template_columns": null,
            "grid_template_rows": null,
            "height": null,
            "justify_content": null,
            "justify_items": null,
            "left": null,
            "margin": null,
            "max_height": null,
            "max_width": null,
            "min_height": null,
            "min_width": null,
            "object_fit": null,
            "object_position": null,
            "order": null,
            "overflow": null,
            "overflow_x": null,
            "overflow_y": null,
            "padding": null,
            "right": null,
            "top": null,
            "visibility": null,
            "width": "20px"
          }
        },
        "4f101375bc2b4c75ba28ced6dd14f002": {
          "model_module": "@jupyter-widgets/controls",
          "model_name": "ProgressStyleModel",
          "model_module_version": "1.5.0",
          "state": {
            "_model_module": "@jupyter-widgets/controls",
            "_model_module_version": "1.5.0",
            "_model_name": "ProgressStyleModel",
            "_view_count": null,
            "_view_module": "@jupyter-widgets/base",
            "_view_module_version": "1.2.0",
            "_view_name": "StyleView",
            "bar_color": null,
            "description_width": ""
          }
        },
        "099d5338e46243eb99f937986f6861bc": {
          "model_module": "@jupyter-widgets/base",
          "model_name": "LayoutModel",
          "model_module_version": "1.2.0",
          "state": {
            "_model_module": "@jupyter-widgets/base",
            "_model_module_version": "1.2.0",
            "_model_name": "LayoutModel",
            "_view_count": null,
            "_view_module": "@jupyter-widgets/base",
            "_view_module_version": "1.2.0",
            "_view_name": "LayoutView",
            "align_content": null,
            "align_items": null,
            "align_self": null,
            "border": null,
            "bottom": null,
            "display": null,
            "flex": null,
            "flex_flow": null,
            "grid_area": null,
            "grid_auto_columns": null,
            "grid_auto_flow": null,
            "grid_auto_rows": null,
            "grid_column": null,
            "grid_gap": null,
            "grid_row": null,
            "grid_template_areas": null,
            "grid_template_columns": null,
            "grid_template_rows": null,
            "height": null,
            "justify_content": null,
            "justify_items": null,
            "left": null,
            "margin": null,
            "max_height": null,
            "max_width": null,
            "min_height": null,
            "min_width": null,
            "object_fit": null,
            "object_position": null,
            "order": null,
            "overflow": null,
            "overflow_x": null,
            "overflow_y": null,
            "padding": null,
            "right": null,
            "top": null,
            "visibility": null,
            "width": null
          }
        },
        "652bcccfb5f848309c5994d88999f439": {
          "model_module": "@jupyter-widgets/controls",
          "model_name": "DescriptionStyleModel",
          "model_module_version": "1.5.0",
          "state": {
            "_model_module": "@jupyter-widgets/controls",
            "_model_module_version": "1.5.0",
            "_model_name": "DescriptionStyleModel",
            "_view_count": null,
            "_view_module": "@jupyter-widgets/base",
            "_view_module_version": "1.2.0",
            "_view_name": "StyleView",
            "description_width": ""
          }
        }
      }
    }
  },
  "cells": [
    {
      "cell_type": "markdown",
      "metadata": {
        "id": "view-in-github",
        "colab_type": "text"
      },
      "source": [
        "<a href=\"https://colab.research.google.com/github/PedroAdair/CNN_news_detection_spanish/blob/main/CNN.ipynb\" target=\"_parent\"><img src=\"https://colab.research.google.com/assets/colab-badge.svg\" alt=\"Open In Colab\"/></a>"
      ]
    },
    {
      "cell_type": "markdown",
      "source": [
        "#Centro de Investigación en Matemáticas a.c \n",
        "## Unidad Monterrey\n",
        "### Temas Selectos de Ciencia de Datos, tarea 3\n",
        "#### Pedro Adair Gallegos Avila"
      ],
      "metadata": {
        "id": "KG6hss4EQxq9"
      }
    },
    {
      "cell_type": "markdown",
      "source": [
        "#Problema 1: Sobre la las CNN"
      ],
      "metadata": {
        "id": "iiql9-VqQnz6"
      }
    },
    {
      "cell_type": "markdown",
      "source": [],
      "metadata": {
        "id": "Rr21JnKeQwJs"
      }
    },
    {
      "cell_type": "markdown",
      "source": [],
      "metadata": {
        "id": "L3AJ79uYQwkI"
      }
    },
    {
      "cell_type": "markdown",
      "source": [],
      "metadata": {
        "id": "altNuoxXQwnW"
      }
    },
    {
      "cell_type": "markdown",
      "source": [
        "#Problema 2:  Clasificador de noticias por país  basado en CNN"
      ],
      "metadata": {
        "id": "U83gAdtXuGhv"
      }
    },
    {
      "cell_type": "code",
      "source": [
        "import os \n",
        "import re\n",
        "import pandas as pd\n",
        "import numpy as np\n",
        "import torch"
      ],
      "metadata": {
        "id": "Q3044JIXqPVz"
      },
      "execution_count": null,
      "outputs": []
    },
    {
      "cell_type": "code",
      "source": [
        "\"\"\"\n",
        "NLKT es la opción que selecciones para preprocesar mis textos\n",
        "\"\"\"\n",
        "import nltk\n",
        "from nltk.corpus import stopwords\n",
        "from nltk.tokenize import word_tokenize\n",
        "from nltk.stem import WordNetLemmatizer\n",
        "from nltk.tokenize import sent_tokenize\n",
        "from nltk import WordPunctTokenizer\n",
        "\n",
        "nltk.download('punkt')\n",
        "nltk.download('wordnet')\n",
        "nltk.download('stopwords')\n",
        "nltk.download('omw-1.4')\n",
        "\n",
        "#Para stop words en español\n",
        "es_stop = set(nltk.corpus.stopwords.words('spanish'))"
      ],
      "metadata": {
        "colab": {
          "base_uri": "https://localhost:8080/"
        },
        "id": "22yTPnUou79-",
        "outputId": "5f8bb752-04a7-481a-e156-265650bf2e79"
      },
      "execution_count": null,
      "outputs": [
        {
          "output_type": "stream",
          "name": "stderr",
          "text": [
            "[nltk_data] Downloading package punkt to /root/nltk_data...\n",
            "[nltk_data]   Unzipping tokenizers/punkt.zip.\n",
            "[nltk_data] Downloading package wordnet to /root/nltk_data...\n",
            "[nltk_data] Downloading package stopwords to /root/nltk_data...\n",
            "[nltk_data]   Unzipping corpora/stopwords.zip.\n",
            "[nltk_data] Downloading package omw-1.4 to /root/nltk_data...\n"
          ]
        }
      ]
    },
    {
      "cell_type": "markdown",
      "source": [
        "El primer paso consiste en descargar nuestro conjunto de datos en train/test. Para ello usaremos las funciones proporcionadas por el profesor."
      ],
      "metadata": {
        "id": "y5-EcjfFqPl2"
      }
    },
    {
      "cell_type": "code",
      "source": [
        "def get_texts_from_dir(cat_dir): \n",
        "  texts = []\n",
        "  data_dir = cat_dir \n",
        "  category_index = {} \n",
        "  categories = []\n",
        "  for category_name in sorted(os.listdir(data_dir)):\n",
        "    category_id = len(category_index)\n",
        "    category_index[category_name] = category_id\n",
        "    category_path = os.path.join(data_dir, category_name) \n",
        "    for f_name in sorted(os.listdir(category_path)):\n",
        "      f_path = os.path.join(category_path, f_name) \n",
        "      f = open(f_path, \"r\", encoding=\"utf8\") \n",
        "      texts += [f.read()]\n",
        "      f.close()\n",
        "      categories += [category_id]\n",
        "  print(\"%d files loaded from %s\" % (len(texts), cat_dir)) \n",
        "  return texts, categories, category_index  "
      ],
      "metadata": {
        "id": "1gh187VerT8z"
      },
      "execution_count": null,
      "outputs": []
    },
    {
      "cell_type": "code",
      "source": [
        "tr_txt, tr_y, tr_y_ind = get_texts_from_dir(\"/content/drive/MyDrive/NLP/train\")\n",
        "te_txt, te_y, te_y_ind = get_texts_from_dir(\"/content/drive/MyDrive/NLP/test\")"
      ],
      "metadata": {
        "colab": {
          "base_uri": "https://localhost:8080/"
        },
        "id": "X_lZk28YrrDQ",
        "outputId": "a0c416fd-5127-4fec-e1d3-1e62d5828611"
      },
      "execution_count": null,
      "outputs": [
        {
          "output_type": "stream",
          "name": "stdout",
          "text": [
            "2250 files loaded from /content/drive/MyDrive/NLP/train\n",
            "1000 files loaded from /content/drive/MyDrive/NLP/test\n"
          ]
        }
      ]
    },
    {
      "cell_type": "markdown",
      "source": [
        "### Paso 0: Preprocesamiento de las noticias"
      ],
      "metadata": {
        "id": "dd9VGHPUOy3F"
      }
    },
    {
      "cell_type": "markdown",
      "source": [
        "Primero, preproceso el texto, aplicando las siguientes consideraciones:\n",
        "\n",
        "\n",
        "*   Remover caracteres especiales (*,$,#, etc.)\n",
        "*   Convertir a minúsculas.\n",
        "*   Convertir espacios multiples a solo uno.\n",
        "*   ...\n",
        "\n"
      ],
      "metadata": {
        "id": "zV-p59tawimW"
      }
    },
    {
      "cell_type": "code",
      "source": [
        "stemmer = WordNetLemmatizer()\n",
        "word_punctuation_tokenizer = nltk.WordPunctTokenizer()\n",
        "\n",
        "def preprocess_text(document):\n",
        "        # Remove all the special characters\n",
        "        document = re.sub(r'\\W', ' ', str(document))\n",
        "\n",
        "        # remove all single characters\n",
        "        document = re.sub(r'\\s+[a-zA-Z]\\s+', ' ', document)\n",
        "\n",
        "        # Remove single characters from the start\n",
        "        document = re.sub(r'\\^[a-zA-Z]\\s+', ' ', document)\n",
        "\n",
        "        # Substituting multiple spaces with single space\n",
        "        document = re.sub(r'\\s+', ' ', document, flags=re.I)\n",
        "\n",
        "        # Removing prefixed 'b'\n",
        "        document = re.sub(r'^b\\s+', '', document)\n",
        "\n",
        "        # Converting to Lowercase\n",
        "        document = document.lower()\n",
        "\n",
        "        # Lemmatization\n",
        "        tokens = document.split()\n",
        "        tokens = [stemmer.lemmatize(word) for word in tokens]\n",
        "        tokens = [word for word in tokens if word not in es_stop]\n",
        "        tokens = [word for word in tokens if len(word) > 3]\n",
        "\n",
        "        preprocessed_text = ' '.join(tokens)\n",
        "\n",
        "        return preprocessed_text"
      ],
      "metadata": {
        "id": "7vHfB2A5xkEX"
      },
      "execution_count": null,
      "outputs": []
    },
    {
      "cell_type": "code",
      "source": [
        "#preproceso todos los documentos par evitar embeddings de palabras no importantes\n",
        "final_corpus = [preprocess_text(document) for document in tr_txt if document.strip() !='']"
      ],
      "metadata": {
        "id": "TkUis18DxsyL"
      },
      "execution_count": null,
      "outputs": []
    },
    {
      "cell_type": "code",
      "source": [
        "# longitud de un texto antes y despues de preprocesar\n",
        "print(\"tamaño de un texto antes de preprocesar:\", len(tr_txt[0]) ) \n",
        "print(\"tamaño de un texto despues de preprocesar:\", len(final_corpus[0]) ) "
      ],
      "metadata": {
        "colab": {
          "base_uri": "https://localhost:8080/"
        },
        "id": "BJoGrfsBx-y9",
        "outputId": "b1f5b081-3ff5-4e1c-c2cd-d6993c1612f7"
      },
      "execution_count": null,
      "outputs": [
        {
          "output_type": "stream",
          "name": "stdout",
          "text": [
            "tamaño de un texto antes de preprocesar: 3728\n",
            "tamaño de un texto despues de preprocesar: 2612\n"
          ]
        }
      ]
    },
    {
      "cell_type": "markdown",
      "source": [
        "### Paso 1: Tokenize Text Data And Build Vocabulary"
      ],
      "metadata": {
        "id": "ghINAHQ8saBJ"
      }
    },
    {
      "cell_type": "markdown",
      "source": [
        "Sobre estos textos preprocesados es que tokenizare las noticias y construire los vocabularios (dependiendo del embedding que valla a usar)."
      ],
      "metadata": {
        "id": "ubIGXloMzE8E"
      }
    },
    {
      "cell_type": "code",
      "source": [
        "def tokenize(texts):\n",
        "    \"\"\"Tokeniza nuestros textos, construye el vocabulario y encuentra la noticia de maxima longitud.\n",
        "    \n",
        "    Args:\n",
        "        texts (List[str]): Lista de textos (noticias)\n",
        "    \n",
        "    Returns:\n",
        "        tokenized_texts (List[List[str]]): Lista de listas de tokens\n",
        "        word2idx (Dict): El vocabulario obtenido del corpus\n",
        "        max_len (int): el texto de maxima longitud (para que los emb. de las noticias sean del mismo tamaño)\n",
        "    \"\"\"\n",
        "\n",
        "    max_len = 0\n",
        "    tokenized_texts = []\n",
        "    word2idx = {}\n",
        "\n",
        "    # Agregamos los tokens <pad> y <unk> a nuestros vocabulario.\n",
        "    word2idx['<pad>'] = 0\n",
        "    word2idx['<unk>'] = 1\n",
        "\n",
        "    # Construimos el vocabulario y sus indices  apartir de 2\n",
        "    idx = 2\n",
        "    for sent in texts:\n",
        "        tokenized_sent = word_tokenize(sent)\n",
        "\n",
        "        # Add `tokenized_sent` to `tokenized_texts`\n",
        "        tokenized_texts.append(tokenized_sent)\n",
        "\n",
        "        # Add new token to `word2idx`\n",
        "        for token in tokenized_sent:\n",
        "            if token not in word2idx:\n",
        "                word2idx[token] = idx\n",
        "                idx += 1\n",
        "\n",
        "        # Update `max_len`\n",
        "        max_len = max(max_len, len(tokenized_sent))\n",
        "\n",
        "    return tokenized_texts, word2idx, max_len"
      ],
      "metadata": {
        "id": "Qn1XTUOks3rr"
      },
      "execution_count": null,
      "outputs": []
    },
    {
      "cell_type": "code",
      "source": [
        "tokenized_texts, word2idx, max_len = tokenize(final_corpus)"
      ],
      "metadata": {
        "id": "VZaxA-wLtvnl"
      },
      "execution_count": null,
      "outputs": []
    },
    {
      "cell_type": "code",
      "source": [
        "print(\"la longitud del vocabulario construido es de:\", len(word2idx))"
      ],
      "metadata": {
        "colab": {
          "base_uri": "https://localhost:8080/"
        },
        "id": "5pnsUXQ50XcL",
        "outputId": "ee4be727-2725-43e0-bc9e-7bdf39beb1c3"
      },
      "execution_count": null,
      "outputs": [
        {
          "output_type": "stream",
          "name": "stdout",
          "text": [
            "la longitud del vocabulario construido es de: 240140\n"
          ]
        }
      ]
    },
    {
      "cell_type": "markdown",
      "source": [
        "Ahora, debemos de realizar el embedding de nuestros textos previamente preprocesados para que sean el input de nuestra CNN. \n",
        "Para ello requerimos que todos los embeddings sean de la misma longitud, la estartegia es que todos tengan la longitud del texto de mayor longitud (tokenizado) colocando el token de padding **<pad>** hasta alcanzar el mismo tamaño.  "
      ],
      "metadata": {
        "id": "M1CuTRJr1-m0"
      }
    },
    {
      "cell_type": "code",
      "source": [
        "def encode(tokenized_texts, word2idx, max_len):\n",
        "    \"\"\"Rellena cada oración a la longitud máxima de la oración y codifica los tokens por su .\n",
        "\n",
        "    Returns:\n",
        "        input_ids (np.array): Array de tokens indexados en el vocabulario de tamaño\n",
        "                              shape (N, max_len).\n",
        "    \"\"\"\n",
        "\n",
        "    input_ids = []\n",
        "    for tokenized_sent in tokenized_texts:\n",
        "        # Pad sentences to max_len\n",
        "        tokenized_sent += ['<pad>'] * (max_len - len(tokenized_sent))\n",
        "\n",
        "        # Encode tokens to input_ids\n",
        "        input_id = [word2idx.get(token) for token in tokenized_sent]\n",
        "        input_ids.append(input_id)\n",
        "    \n",
        "    return np.array(input_ids)"
      ],
      "metadata": {
        "id": "-cpaj3w-1Imc"
      },
      "execution_count": null,
      "outputs": []
    },
    {
      "cell_type": "code",
      "source": [
        "input_ids = encode(tokenized_texts, word2idx, max_len)"
      ],
      "metadata": {
        "id": "a_kl7Ih84tcE"
      },
      "execution_count": null,
      "outputs": []
    },
    {
      "cell_type": "code",
      "source": [
        "input_ids.shape"
      ],
      "metadata": {
        "colab": {
          "base_uri": "https://localhost:8080/"
        },
        "id": "LC4JFVeGNWJD",
        "outputId": "5528d914-238a-4635-cd82-fc92e053ec6d"
      },
      "execution_count": null,
      "outputs": [
        {
          "output_type": "execute_result",
          "data": {
            "text/plain": [
              "(2250, 5823)"
            ]
          },
          "metadata": {},
          "execution_count": 80
        }
      ]
    },
    {
      "cell_type": "code",
      "source": [
        "from tqdm import tqdm_notebook\n",
        "\n",
        "def load_pretrained_vectors(word2idx, fname):\n",
        "    \"\"\"Load pretrained vectors and create embedding layers.\n",
        "    \n",
        "    Args:\n",
        "        word2idx (Dict): Vocabulary built from the corpus\n",
        "        fname (str): Path to pretrained vector file\n",
        "\n",
        "    Returns:\n",
        "        embeddings (np.array): Embedding matrix with shape (N, d) where N is\n",
        "            the size of word2idx and d is embedding dimension\n",
        "    \"\"\"\n",
        "\n",
        "    print(\"Loading pretrained vectors...\")\n",
        "    fin = open(fname, 'r', encoding='utf-8', newline='\\n', errors='ignore')\n",
        "    n, d = map(int, fin.readline().split())\n",
        "\n",
        "    # Initilize random embeddings\n",
        "    embeddings = np.random.uniform(-0.25, 0.25, (len(word2idx), d)) #lleno la matriz d enumeros de forma aleatoria\n",
        "    embeddings[word2idx['<pad>']] = np.zeros((d,))  #a aquellos valores que tiene un '<pad>'\n",
        "\n",
        "    # Load pretrained vectors\n",
        "    count = 0\n",
        "    for line in tqdm_notebook(fin):\n",
        "        tokens = line.rstrip().split(' ')\n",
        "        word = tokens[0]\n",
        "        if word in word2idx:\n",
        "            count += 1\n",
        "            embeddings[word2idx[word]] = np.array(tokens[1:], dtype=np.float32)\n",
        "\n",
        "    print(f\"There are {count} / {len(word2idx)} pretrained vectors found.\")\n",
        "\n",
        "    return embeddings"
      ],
      "metadata": {
        "id": "DgcNoZJmKUOd"
      },
      "execution_count": null,
      "outputs": []
    },
    {
      "cell_type": "markdown",
      "source": [
        "#### Construccion de los embeddings"
      ],
      "metadata": {
        "id": "2-2juhipl8Sm"
      }
    },
    {
      "cell_type": "markdown",
      "source": [
        "Para esta tarea (así como para las reviews de Amazon)usare los 3 modelos de embbegings que vimos en el curso, FastText, Globe y Word2Vect"
      ],
      "metadata": {
        "id": "jQ8UQGBhl_SX"
      }
    },
    {
      "cell_type": "markdown",
      "source": [
        "FastText"
      ],
      "metadata": {
        "id": "wDZ5VHwmw4rv"
      }
    },
    {
      "cell_type": "code",
      "source": [
        "embeddings_FastText = load_pretrained_vectors(word2idx, \"/content/drive/MyDrive/NLP/FastText/embeddings-l-model.vec\")\n",
        "embeddings_FastText = torch.tensor(embeddings_FastText)"
      ],
      "metadata": {
        "colab": {
          "base_uri": "https://localhost:8080/",
          "height": 138,
          "referenced_widgets": [
            "a1eb866c739c47729fc8a454d6ebaf07",
            "bcad8822a73d45f6ac215a2f07ba33c7",
            "0b4063f0696b4971a800658ba4bcfa8d",
            "80cdd7fc140f4bb9a8cad501fd0e6298",
            "4c301e2db0cf4476a15632be2f46ba8d",
            "35c13abd757b4c94924d4a87a86517fb",
            "1598e64f2ee24e9f92c0aa3b5cd68330",
            "c8aeff43d89d41a2969359fa93679297",
            "7f3c10a8332d46f5ad271e2e04d73ae9",
            "4bed0a3473254ad29facf2df659f52fc",
            "a0c12597ef874ced8c6447f4188636e1"
          ]
        },
        "id": "c2q0p4ICIjI4",
        "outputId": "f10918ed-be03-4444-e272-9db551f080b8"
      },
      "execution_count": null,
      "outputs": [
        {
          "output_type": "stream",
          "name": "stdout",
          "text": [
            "Loading pretrained vectors...\n"
          ]
        },
        {
          "output_type": "stream",
          "name": "stderr",
          "text": [
            "/usr/local/lib/python3.7/dist-packages/ipykernel_launcher.py:25: TqdmDeprecationWarning: This function will be removed in tqdm==5.0.0\n",
            "Please use `tqdm.notebook.tqdm` instead of `tqdm.tqdm_notebook`\n"
          ]
        },
        {
          "output_type": "display_data",
          "data": {
            "text/plain": [
              "0it [00:00, ?it/s]"
            ],
            "application/vnd.jupyter.widget-view+json": {
              "version_major": 2,
              "version_minor": 0,
              "model_id": "a1eb866c739c47729fc8a454d6ebaf07"
            }
          },
          "metadata": {}
        },
        {
          "output_type": "stream",
          "name": "stdout",
          "text": [
            "There are 158198 / 240140 pretrained vectors found.\n"
          ]
        }
      ]
    },
    {
      "cell_type": "code",
      "source": [
        "embeddings_FastText.shape"
      ],
      "metadata": {
        "colab": {
          "base_uri": "https://localhost:8080/"
        },
        "id": "y1-xx5_FNSI8",
        "outputId": "5e538cc8-bd00-4411-d029-ab37e55e67c8"
      },
      "execution_count": null,
      "outputs": [
        {
          "output_type": "execute_result",
          "data": {
            "text/plain": [
              "torch.Size([240140, 300])"
            ]
          },
          "metadata": {},
          "execution_count": 18
        }
      ]
    },
    {
      "cell_type": "markdown",
      "source": [],
      "metadata": {
        "id": "fLDPSr7gw6-W"
      }
    },
    {
      "cell_type": "code",
      "source": [
        "#Word2Vec\n",
        "embeddings_Word2Vec = load_pretrained_vectors(word2idx, \"/content/drive/MyDrive/T3/SBW-vectors-300-min5.txt\")\n",
        "embeddings_Word2Vec = torch.tensor(embeddings_Word2Vec)"
      ],
      "metadata": {
        "id": "myC5sTz5M0Be",
        "colab": {
          "base_uri": "https://localhost:8080/",
          "height": 138,
          "referenced_widgets": [
            "fa48a8292f114990b92ea448ad25482d",
            "7a5770c1283540429a6a433e3ccfddf9",
            "ae4a9979957f4b87bcd8b9787496f673",
            "ba54ea504bc14ce99c1e7358aa356d91",
            "38a0a273ac2e4558a2e8fec1f4059bb3",
            "79355033284a488aa67819fb2d9b36f3",
            "70dc294a06c64f7ab3b548185ea6481f",
            "afbdbe61146d44aa95ac0009db99bf6e",
            "2f87c3758a08422a9a065330443198ce",
            "000c16783e3543d9a2580970f2c14ee7",
            "0ab103f85b6a4803adf7bbe63f47b9c0"
          ]
        },
        "outputId": "6b07d532-be35-49bd-a22f-1764899c492e"
      },
      "execution_count": null,
      "outputs": [
        {
          "output_type": "stream",
          "name": "stdout",
          "text": [
            "Loading pretrained vectors...\n"
          ]
        },
        {
          "output_type": "stream",
          "name": "stderr",
          "text": [
            "/usr/local/lib/python3.7/dist-packages/ipykernel_launcher.py:25: TqdmDeprecationWarning: This function will be removed in tqdm==5.0.0\n",
            "Please use `tqdm.notebook.tqdm` instead of `tqdm.tqdm_notebook`\n"
          ]
        },
        {
          "output_type": "display_data",
          "data": {
            "text/plain": [
              "0it [00:00, ?it/s]"
            ],
            "application/vnd.jupyter.widget-view+json": {
              "version_major": 2,
              "version_minor": 0,
              "model_id": "fa48a8292f114990b92ea448ad25482d"
            }
          },
          "metadata": {}
        },
        {
          "output_type": "stream",
          "name": "stdout",
          "text": [
            "There are 122480 / 240140 pretrained vectors found.\n"
          ]
        }
      ]
    },
    {
      "cell_type": "markdown",
      "source": [
        "Glove"
      ],
      "metadata": {
        "id": "kiwy3ZrCw7Zi"
      }
    },
    {
      "cell_type": "code",
      "source": [
        "#Globe /content/drive/MyDrive/T3/glove-sbwc.i25.vec\n",
        "embeddings_Glove = load_pretrained_vectors(word2idx, \"/content/drive/MyDrive/T3/glove-sbwc.i25.vec\")\n",
        "embeddings_Glove = torch.tensor(embeddings_Glove)"
      ],
      "metadata": {
        "colab": {
          "base_uri": "https://localhost:8080/",
          "height": 138,
          "referenced_widgets": [
            "b149f4742540476e81ba7304309c929c",
            "cf386b9312544eedbaf38be38705d34c",
            "d1a3b56565ef4cba919827919de07445",
            "f1040c24da6b45e9b8750dc87fa7fe84",
            "0060a66d82384255aee099b34361f719",
            "c62efa944dc74a4e870fb6e5c53bdd61",
            "0506db6c326b44db991c65f2bcc38f37",
            "1aebfae853a441bf8e95fccbf1d4063d",
            "5f7de3d32a05427286c6369cdb30aae9",
            "485cb7004bb5465d86cc055a038575d1",
            "8ec2ab46e6c84589813ca5fecbefb40e"
          ]
        },
        "id": "Dp0ZSEHXmPJQ",
        "outputId": "e19a6033-926c-411f-fa60-e69e5badfee2"
      },
      "execution_count": null,
      "outputs": [
        {
          "output_type": "stream",
          "name": "stdout",
          "text": [
            "Loading pretrained vectors...\n"
          ]
        },
        {
          "output_type": "stream",
          "name": "stderr",
          "text": [
            "/usr/local/lib/python3.7/dist-packages/ipykernel_launcher.py:25: TqdmDeprecationWarning: This function will be removed in tqdm==5.0.0\n",
            "Please use `tqdm.notebook.tqdm` instead of `tqdm.tqdm_notebook`\n"
          ]
        },
        {
          "output_type": "display_data",
          "data": {
            "text/plain": [
              "0it [00:00, ?it/s]"
            ],
            "application/vnd.jupyter.widget-view+json": {
              "version_major": 2,
              "version_minor": 0,
              "model_id": "b149f4742540476e81ba7304309c929c"
            }
          },
          "metadata": {}
        },
        {
          "output_type": "stream",
          "name": "stdout",
          "text": [
            "There are 150800 / 240140 pretrained vectors found.\n"
          ]
        }
      ]
    },
    {
      "cell_type": "markdown",
      "source": [
        "#### Construccion del DataLoader"
      ],
      "metadata": {
        "id": "xG12Y1KxNrTO"
      }
    },
    {
      "cell_type": "markdown",
      "source": [
        "batch_size=50"
      ],
      "metadata": {
        "id": "MltYyz_sJKC-"
      }
    },
    {
      "cell_type": "code",
      "source": [
        "from torch.utils.data import (TensorDataset, DataLoader, RandomSampler, SequentialSampler)"
      ],
      "metadata": {
        "id": "Jt6xUtlITtKv"
      },
      "execution_count": null,
      "outputs": []
    },
    {
      "cell_type": "code",
      "source": [
        "def data_loader(train_inputs, val_inputs, train_labels, val_labels,\n",
        "                batch_size=50):\n",
        "    \"\"\"Convert train and validation sets to torch.Tensors and load them to\n",
        "    DataLoader.\n",
        "    \"\"\"\n",
        "\n",
        "    # Convert data type to torch.Tensor\n",
        "    train_inputs, val_inputs, train_labels, val_labels =\\\n",
        "    tuple(torch.tensor(data) for data in\n",
        "          [train_inputs, val_inputs, train_labels, val_labels])\n",
        "\n",
        "    # Specify batch_size\n",
        "    batch_size = 50\n",
        "\n",
        "    # Create DataLoader for training data\n",
        "    train_data = TensorDataset(train_inputs, train_labels)\n",
        "    train_sampler = RandomSampler(train_data)\n",
        "    train_dataloader = DataLoader(train_data, sampler=train_sampler, batch_size=batch_size)\n",
        "\n",
        "    # Create DataLoader for validation data\n",
        "    val_data = TensorDataset(val_inputs, val_labels)\n",
        "    val_sampler = SequentialSampler(val_data)\n",
        "    val_dataloader = DataLoader(val_data, sampler=val_sampler, batch_size=batch_size)\n",
        "\n",
        "    return train_dataloader, val_dataloader"
      ],
      "metadata": {
        "id": "dM1efPr7TtTp"
      },
      "execution_count": null,
      "outputs": []
    },
    {
      "cell_type": "code",
      "source": [
        "from sklearn.model_selection import train_test_split\n",
        "\n",
        "# Train Test Split\n",
        "train_inputs, val_inputs, train_labels, val_labels = train_test_split(\n",
        "    input_ids,tr_y , test_size=0.25, random_state=42)\n",
        "\n",
        "# Load data to PyTorch DataLoader\n",
        "train_dataloader, val_dataloader = \\\n",
        "data_loader(train_inputs, val_inputs, train_labels, val_labels, batch_size=50)"
      ],
      "metadata": {
        "id": "ojHD_X6UTtWp"
      },
      "execution_count": null,
      "outputs": []
    },
    {
      "cell_type": "code",
      "source": [
        "train_dataloader, val_dataloader = data_loader(train_inputs, val_inputs, train_labels, val_labels, batch_size=50)"
      ],
      "metadata": {
        "id": "9uyHit0IioGU"
      },
      "execution_count": null,
      "outputs": []
    },
    {
      "cell_type": "markdown",
      "source": [
        "### Paso 2: Construccion de la cnn"
      ],
      "metadata": {
        "id": "74OMqMxaiqrH"
      }
    },
    {
      "cell_type": "code",
      "source": [
        "import torch\n",
        "import torch.nn as nn\n",
        "import torch.nn.functional as F"
      ],
      "metadata": {
        "id": "n2OmzYIrisOq"
      },
      "execution_count": null,
      "outputs": []
    },
    {
      "cell_type": "code",
      "source": [
        "class CNN_NLP(nn.Module):\n",
        "    \"\"\"An 1D Convulational Neural Network for Sentence Classification.\"\"\"\n",
        "    def __init__(self,\n",
        "                 pretrained_embedding=None,\n",
        "                 freeze_embedding=False,\n",
        "                 vocab_size=None,\n",
        "                 embed_dim=300,\n",
        "                 filter_sizes=[7, 6, 9],\n",
        "                 num_filters=[100, 100, 100],\n",
        "                 num_classes=5,\n",
        "                 dropout=0.5):\n",
        "        \"\"\"\n",
        "        The constructor for CNN_NLP class.\n",
        "\n",
        "        Args:\n",
        "            pretrained_embedding (torch.Tensor): Pretrained embeddings with\n",
        "                shape (vocab_size, embed_dim)\n",
        "            freeze_embedding (bool): Set to False to fine-tune pretraiend\n",
        "                vectors. Default: False\n",
        "            vocab_size (int): Need to be specified when not pretrained word\n",
        "                embeddings are not used.\n",
        "            embed_dim (int): Dimension of word vectors. Need to be specified\n",
        "                when pretrained word embeddings are not used. Default: 300\n",
        "            filter_sizes (List[int]): List of filter sizes. Default: [3, 4, 5]\n",
        "            num_filters (List[int]): List of number of filters, has the same\n",
        "                length as `filter_sizes`. Default: [100, 100, 100]\n",
        "            n_classes (int): Number of classes. Default: 2\n",
        "            dropout (float): Dropout rate. Default: 0.5\n",
        "        \"\"\"\n",
        "\n",
        "        super(CNN_NLP, self).__init__()\n",
        "\n",
        "        #1. Embedding layer\n",
        "        #Para el caso de un modelo preeentrenado\n",
        "        if pretrained_embedding is not None:\n",
        "            self.vocab_size, self.embed_dim = pretrained_embedding.shape\n",
        "            self.embedding = nn.Embedding.from_pretrained(pretrained_embedding, freeze=freeze_embedding)\n",
        "        else:\n",
        "            self.embed_dim = embed_dim\n",
        "            self.embedding = nn.Embedding(num_embeddings=vocab_size,\n",
        "                                          embedding_dim=self.embed_dim,\n",
        "                                          padding_idx=0,\n",
        "                                          max_norm=5.0)\n",
        "        #2. Convolution layers\n",
        "        self.conv1d_list = nn.ModuleList([\n",
        "            nn.Conv1d(in_channels=self.embed_dim,\n",
        "                      out_channels=num_filters[i],\n",
        "                      kernel_size=filter_sizes[i])\n",
        "            for i in range(len(filter_sizes))\n",
        "        ])\n",
        "        #3. Fully-connected layer and Dropout\n",
        "        self.fc = nn.Linear(np.sum(num_filters), num_classes)\n",
        "\n",
        "        #4. dropout \n",
        "        self.dropout = nn.Dropout(p=dropout)\n",
        "\n",
        "\n",
        "    def forward(self, input_ids):\n",
        "        \"\"\"Perform a forward pass through the network.\n",
        "\n",
        "        Args:\n",
        "            input_ids (torch.Tensor): A tensor of token ids with shape\n",
        "                (batch_size, max_sent_length)\n",
        "\n",
        "        Returns:\n",
        "            logits (torch.Tensor): Output logits with shape (batch_size,\n",
        "                n_classes)\n",
        "        \"\"\"\n",
        "\n",
        "        # Get embeddings from `input_ids`. Output shape: (b, max_len, embed_dim)\n",
        "        x_embed = self.embedding(input_ids).float()\n",
        "\n",
        "        # Permute `x_embed` to match input shape requirement of `nn.Conv1d`.\n",
        "        # Output shape: (b, embed_dim, max_len)\n",
        "        x_reshaped = x_embed.permute(0, 2, 1)\n",
        "\n",
        "        # Apply CNN and ReLU. Output shape: (b, num_filters[i], L_out)\n",
        "        x_conv_list = [F.relu(conv1d(x_reshaped)) for conv1d in self.conv1d_list]\n",
        "\n",
        "        # Max pooling. Output shape: (b, num_filters[i], 1)\n",
        "        x_pool_list = [F.max_pool1d(x_conv, kernel_size=x_conv.shape[2])\n",
        "            for x_conv in x_conv_list]\n",
        "        \n",
        "        # Concatenate x_pool_list to feed the fully connected layer.\n",
        "        # Output shape: (b, sum(num_filters))\n",
        "        x_fc = torch.cat([x_pool.squeeze(dim=2) for x_pool in x_pool_list],\n",
        "                         dim=1)\n",
        "        \n",
        "        # Compute logits. Output shape: (b, n_classes)\n",
        "        logits = self.fc(self.dropout(x_fc))\n",
        "\n",
        "        return logits"
      ],
      "metadata": {
        "id": "WpDIwfLEiucw"
      },
      "execution_count": null,
      "outputs": []
    },
    {
      "cell_type": "code",
      "source": [
        "import torch.optim as optim\n",
        "\n",
        "def initilize_model(pretrained_embedding=None,\n",
        "                    freeze_embedding=False,\n",
        "                    vocab_size=None,\n",
        "                    embed_dim=300,\n",
        "                    filter_sizes=[7, 6, 9], #original [3, 4, 5]\n",
        "                    num_filters=[100, 100, 100],\n",
        "                    num_classes=5,\n",
        "                    dropout=0.5,\n",
        "                    learning_rate=0.01):\n",
        "    \"\"\"Instantiate a CNN model and an optimizer.\"\"\"\n",
        "\n",
        "    assert (len(filter_sizes) == len(num_filters)), \"filter_sizes and \\\n",
        "    num_filters need to be of the same length.\"\n",
        "\n",
        "    # Instantiate CNN model\n",
        "    cnn_model = CNN_NLP(pretrained_embedding=pretrained_embedding,\n",
        "                        freeze_embedding=freeze_embedding,\n",
        "                        vocab_size=vocab_size,\n",
        "                        embed_dim=embed_dim,\n",
        "                        filter_sizes=filter_sizes,\n",
        "                        num_filters=num_filters,\n",
        "                        num_classes=5,\n",
        "                        dropout=0.5)\n",
        "    \n",
        "    # Send model to `device` (GPU/CPU)\n",
        "    cnn_model.to(device)\n",
        "\n",
        "    # Instantiate SGD optimizer\n",
        "    optimizer = optim.SGD(cnn_model.parameters(),\n",
        "                               lr=learning_rate,momentum=0.05)\n",
        "\n",
        "    return cnn_model, optimizer"
      ],
      "metadata": {
        "id": "RKNE3zkpiwTv"
      },
      "execution_count": null,
      "outputs": []
    },
    {
      "cell_type": "code",
      "source": [
        "import random\n",
        "import time\n",
        "\n",
        "# Specify loss function\n",
        "loss_fn = nn.CrossEntropyLoss()\n",
        "\n",
        "def set_seed(seed_value=42):\n",
        "    \"\"\"Set seed for reproducibility.\"\"\"\n",
        "\n",
        "    random.seed(seed_value)\n",
        "    np.random.seed(seed_value)\n",
        "    torch.manual_seed(seed_value)\n",
        "    torch.cuda.manual_seed_all(seed_value)\n",
        "\n",
        "def train(model, optimizer, train_dataloader, val_dataloader=None, epochs=10):\n",
        "    \"\"\"Train the CNN model.\"\"\"\n",
        "    \n",
        "    # Tracking best validation accuracy\n",
        "    best_accuracy = 0\n",
        "\n",
        "    # Start training loop\n",
        "    print(\"Start training...\\n\")\n",
        "    print(f\"{'Epoch':^7} | {'Train Loss':^12} | {'Val Loss':^10} | {    'Val Acc':^9} | {'Elapsed':^9}\")\n",
        "    print(\"-\"*60)\n",
        "\n",
        "    for epoch_i in range(epochs):\n",
        "        # =======================================\n",
        "        #               Training\n",
        "        # =======================================\n",
        "\n",
        "        # Tracking time and loss\n",
        "        t0_epoch = time.time()\n",
        "        total_loss = 0\n",
        "\n",
        "        # Put the model into the training mode\n",
        "        model.train()\n",
        "\n",
        "        for step, batch in enumerate(train_dataloader):\n",
        "            # Load batch to GPU\n",
        "            b_input_ids, b_labels = tuple(t.to(device) for t in batch)\n",
        "\n",
        "            # Zero out any previously calculated gradients\n",
        "            model.zero_grad()\n",
        "\n",
        "            # Perform a forward pass. This will return logits.\n",
        "            logits = model(b_input_ids)\n",
        "\n",
        "            # Compute loss and accumulate the loss values\n",
        "            loss = loss_fn(logits, b_labels)\n",
        "            total_loss += loss.item()\n",
        "\n",
        "            # Perform a backward pass to calculate gradients\n",
        "            loss.backward()\n",
        "\n",
        "            # Update parameters\n",
        "            optimizer.step()\n",
        "\n",
        "        # Calculate the average loss over the entire training data\n",
        "        avg_train_loss = total_loss / len(train_dataloader)\n",
        "\n",
        "        # =======================================\n",
        "        #               Evaluation\n",
        "        # =======================================\n",
        "        if val_dataloader is not None:\n",
        "            # After the completion of each training epoch, measure the model's\n",
        "            # performance on our validation set.\n",
        "            val_loss, val_accuracy = evaluate(model, val_dataloader)\n",
        "\n",
        "            # Track the best accuracy\n",
        "            if val_accuracy > best_accuracy:\n",
        "                best_accuracy = val_accuracy\n",
        "\n",
        "            # Print performance over the entire training data\n",
        "            time_elapsed = time.time() - t0_epoch\n",
        "            print(f\"{epoch_i + 1:^7} | {avg_train_loss:^12.6f} | {val_loss:^10.6f} | {val_accuracy:^9.2f} | {time_elapsed:^9.2f}\")\n",
        "            \n",
        "    print(\"\\n\")\n",
        "    print(f\"Training complete! Best accuracy: {best_accuracy:.2f}%.\")\n",
        "\n",
        "def evaluate(model, val_dataloader):\n",
        "    \"\"\"After the completion of each training epoch, measure the model's\n",
        "    performance on our validation set.\n",
        "    \"\"\"\n",
        "    # Put the model into the evaluation mode. The dropout layers are disabled\n",
        "    # during the test time.\n",
        "    model.eval()\n",
        "\n",
        "    # Tracking variables\n",
        "    val_accuracy = []\n",
        "    val_loss = []\n",
        "\n",
        "    # For each batch in our validation set...\n",
        "    for batch in val_dataloader:\n",
        "        # Load batch to GPU\n",
        "        b_input_ids, b_labels = tuple(t.to(device) for t in batch)\n",
        "\n",
        "        # Compute logits\n",
        "        with torch.no_grad():\n",
        "            logits = model(b_input_ids)\n",
        "\n",
        "        # Compute loss\n",
        "        loss = loss_fn(logits, b_labels)\n",
        "        val_loss.append(loss.item())\n",
        "\n",
        "        # Get the predictions\n",
        "        preds = torch.argmax(logits, dim=1).flatten()\n",
        "\n",
        "        # Calculate the accuracy rate\n",
        "        accuracy = (preds == b_labels).cpu().numpy().mean() * 100\n",
        "        val_accuracy.append(accuracy)\n",
        "\n",
        "    # Compute the average accuracy and loss over the validation set.\n",
        "    val_loss = np.mean(val_loss)\n",
        "    val_accuracy = np.mean(val_accuracy)\n",
        "\n",
        "    return val_loss, val_accuracy"
      ],
      "metadata": {
        "id": "uBN4_zDsiy2D"
      },
      "execution_count": null,
      "outputs": []
    },
    {
      "cell_type": "markdown",
      "source": [
        "### Paso 3: Entrenamiento de las diferentes configuraciones de CNN con embedding"
      ],
      "metadata": {
        "id": "lIwV5jp0iz0U"
      }
    },
    {
      "cell_type": "markdown",
      "source": [
        "Como el entrenamiento es la parte más costona a nivel computacional, es la unica que realizamos con GPU"
      ],
      "metadata": {
        "id": "T6HmotjznaP7"
      }
    },
    {
      "cell_type": "code",
      "source": [
        "if torch.cuda.is_available():       \n",
        "    device = torch.device(\"cuda\")\n",
        "    print(f'There are {torch.cuda.device_count()} GPU(s) available.')\n",
        "    print('Device name:', torch.cuda.get_device_name(0))\n",
        "\n",
        "else:\n",
        "    print('No GPU available, using the CPU instead.')\n",
        "    device = torch.device(\"cpu\")\n",
        "\n",
        "#device = torch.device(\"cpu\")"
      ],
      "metadata": {
        "colab": {
          "base_uri": "https://localhost:8080/"
        },
        "id": "B-noqOuTi3Ab",
        "outputId": "2ca34292-d9d5-4621-f564-da4150ba5781"
      },
      "execution_count": null,
      "outputs": [
        {
          "output_type": "stream",
          "name": "stdout",
          "text": [
            "There are 1 GPU(s) available.\n",
            "Device name: Tesla T4\n"
          ]
        }
      ]
    },
    {
      "cell_type": "markdown",
      "source": [
        "#### Modelo sin trasfer learning"
      ],
      "metadata": {
        "id": "VxyfuYZgKoC9"
      }
    },
    {
      "cell_type": "code",
      "source": [
        "set_seed(42)  \n",
        "cnn_rand, optimizer = initilize_model(vocab_size=len(word2idx),\n",
        "                                      embed_dim=300,\n",
        "                                      learning_rate=0.25,\n",
        "                                      dropout=0.5)\n",
        "#% minutos aprox.\n",
        "train(cnn_rand, optimizer, train_dataloader, val_dataloader, epochs=20)"
      ],
      "metadata": {
        "colab": {
          "base_uri": "https://localhost:8080/"
        },
        "id": "PMSmhiRsi3DA",
        "outputId": "38dd3879-e888-408d-80e1-1c17d30bc5da"
      },
      "execution_count": null,
      "outputs": [
        {
          "output_type": "stream",
          "name": "stdout",
          "text": [
            "Start training...\n",
            "\n",
            " Epoch  |  Train Loss  |  Val Loss  |  Val Acc  |  Elapsed \n",
            "------------------------------------------------------------\n",
            "   1    |   2.902345   |  1.870407  |   19.06   |   18.80  \n",
            "   2    |   1.651878   |  1.372272  |   43.94   |   12.46  \n",
            "   3    |   1.352889   |  1.790661  |   56.46   |   12.64  \n",
            "   4    |   0.864116   |  1.072754  |   58.01   |   12.81  \n",
            "   5    |   0.467790   |  1.275605  |   47.68   |   13.00  \n",
            "   6    |   0.285812   |  0.895876  |   67.29   |   13.20  \n",
            "   7    |   0.189145   |  0.987490  |   63.63   |   13.43  \n",
            "   8    |   0.144791   |  0.913058  |   66.29   |   13.61  \n",
            "   9    |   0.118859   |  0.891463  |   64.51   |   13.85  \n",
            "  10    |   0.086746   |  0.922402  |   67.41   |   14.00  \n",
            "  11    |   0.082495   |  0.955410  |   68.27   |   13.86  \n",
            "  12    |   0.057228   |  0.909804  |   64.35   |   13.72  \n",
            "  13    |   0.046798   |  0.885539  |   66.51   |   13.69  \n",
            "  14    |   0.053101   |  0.941372  |   66.96   |   13.71  \n",
            "  15    |   0.046822   |  0.962118  |   66.10   |   13.76  \n",
            "  16    |   0.038363   |  0.886761  |   68.44   |   13.78  \n",
            "  17    |   0.028677   |  0.932456  |   67.94   |   13.79  \n",
            "  18    |   0.020932   |  0.901718  |   69.77   |   13.79  \n",
            "  19    |   0.026165   |  0.892922  |   68.94   |   13.78  \n",
            "  20    |   0.022014   |  0.906396  |   68.94   |   13.79  \n",
            "\n",
            "\n",
            "Training complete! Best accuracy: 69.77%.\n"
          ]
        }
      ]
    },
    {
      "cell_type": "markdown",
      "source": [
        "#### Modelos con FastText"
      ],
      "metadata": {
        "id": "o5YvTGiQKsPM"
      }
    },
    {
      "cell_type": "markdown",
      "source": [
        "##### Modelo basado en transfer learning con FastText descongelado "
      ],
      "metadata": {
        "id": "KmZEmuupNwkj"
      }
    },
    {
      "cell_type": "code",
      "source": [
        "# CNN-non-static: fastText pretrained word vectors are fine-tuned during training. SGD optmin\n",
        "set_seed(42)\n",
        "cnn_FT_descongelado, optimizer = initilize_model(pretrained_embedding=embeddings_FastText,\n",
        "                                            freeze_embedding=False,\n",
        "                                            learning_rate=0.25,\n",
        "                                            dropout=0.5)\n",
        "train(cnn_FT_descongelado, optimizer, train_dataloader, val_dataloader, epochs=20)"
      ],
      "metadata": {
        "colab": {
          "base_uri": "https://localhost:8080/"
        },
        "id": "tMfq-3oeNxGD",
        "outputId": "9d120d2c-acaa-4bd3-be0d-87b926ab8c09"
      },
      "execution_count": null,
      "outputs": [
        {
          "output_type": "stream",
          "name": "stdout",
          "text": [
            "Start training...\n",
            "\n",
            " Epoch  |  Train Loss  |  Val Loss  |  Val Acc  |  Elapsed \n",
            "------------------------------------------------------------\n",
            "   1    |   1.697728   |  1.527699  |   29.76   |   15.35  \n",
            "   2    |   1.320394   |  1.088348  |   68.38   |   15.59  \n",
            "   3    |   0.942693   |  0.967022  |   64.27   |   15.54  \n",
            "   4    |   0.587022   |  0.759043  |   75.41   |   15.29  \n",
            "   5    |   0.387299   |  0.796224  |   73.10   |   15.20  \n",
            "   6    |   0.244358   |  0.834356  |   69.99   |   15.25  \n",
            "   7    |   0.152729   |  0.676685  |   75.77   |   15.36  \n",
            "   8    |   0.111130   |  0.702182  |   75.91   |   15.39  \n",
            "   9    |   0.071565   |  0.681294  |   76.24   |   15.33  \n",
            "  10    |   0.057133   |  0.709138  |   76.58   |   15.31  \n",
            "  11    |   0.040875   |  0.737786  |   75.27   |   15.30  \n",
            "  12    |   0.031480   |  0.683813  |   77.74   |   15.31  \n",
            "  13    |   0.034923   |  0.668537  |   76.41   |   15.30  \n",
            "  14    |   0.024339   |  0.689228  |   77.41   |   15.31  \n",
            "  15    |   0.022598   |  0.697157  |   76.41   |   15.31  \n",
            "  16    |   0.022608   |  0.692504  |   76.41   |   15.33  \n",
            "  17    |   0.020214   |  0.694914  |   76.24   |   15.33  \n",
            "  18    |   0.016020   |  0.702914  |   76.08   |   15.33  \n",
            "  19    |   0.014831   |  0.706474  |   76.58   |   15.34  \n",
            "  20    |   0.013087   |  0.708608  |   76.74   |   15.34  \n",
            "\n",
            "\n",
            "Training complete! Best accuracy: 77.74%.\n"
          ]
        }
      ]
    },
    {
      "cell_type": "markdown",
      "source": [
        "##### Modelo basado en transfer learning con FastText congelado "
      ],
      "metadata": {
        "id": "ciNztgfLjQpj"
      }
    },
    {
      "cell_type": "code",
      "source": [
        "# CNN-non-static: fastText pretrained word vectors are fine-tuned during training. SGD optmin\n",
        "# CNN-non-static: fastText pretrained word vectors are fine-tuned during training. SGD optmin with moment =0.05 (es Nesterov)\n",
        "#filtros size [7,6,9]\n",
        "set_seed(42)\n",
        "cnn_FT_congelado, optimizer = initilize_model(pretrained_embedding=embeddings_FastText,\n",
        "                                            freeze_embedding=True,\n",
        "                                            learning_rate=0.25,\n",
        "                                            dropout=0.5)\n",
        "train(cnn_FT_congelado, optimizer, train_dataloader, val_dataloader, epochs=20)"
      ],
      "metadata": {
        "colab": {
          "base_uri": "https://localhost:8080/"
        },
        "id": "0dWNThs9SCCN",
        "outputId": "e0abdb04-12ca-4f52-fd7d-e77384a10a4a"
      },
      "execution_count": null,
      "outputs": [
        {
          "output_type": "stream",
          "name": "stdout",
          "text": [
            "Start training...\n",
            "\n",
            " Epoch  |  Train Loss  |  Val Loss  |  Val Acc  |  Elapsed \n",
            "------------------------------------------------------------\n",
            "   1    |   1.697808   |  1.527705  |   30.23   |   10.73  \n",
            "   2    |   1.320893   |  1.090536  |   68.05   |   10.74  \n",
            "   3    |   0.946182   |  0.945285  |   66.10   |   10.77  \n",
            "   4    |   0.589823   |  0.775185  |   74.24   |   10.73  \n",
            "   5    |   0.391174   |  0.811221  |   72.60   |   10.73  \n",
            "   6    |   0.244770   |  0.836334  |   70.65   |   10.73  \n",
            "   7    |   0.156520   |  0.684125  |   76.27   |   10.73  \n",
            "   8    |   0.116348   |  0.695498  |   76.74   |   10.73  \n",
            "   9    |   0.072727   |  0.679860  |   76.27   |   10.74  \n",
            "  10    |   0.058949   |  0.709124  |   76.58   |   10.73  \n",
            "  11    |   0.042707   |  0.702628  |   75.77   |   10.73  \n",
            "  12    |   0.032946   |  0.680841  |   76.24   |   10.75  \n",
            "  13    |   0.033870   |  0.662249  |   76.91   |   10.75  \n",
            "  14    |   0.025259   |  0.687512  |   77.08   |   10.73  \n",
            "  15    |   0.023382   |  0.689517  |   76.10   |   10.72  \n",
            "  16    |   0.022664   |  0.681620  |   76.74   |   10.73  \n",
            "  17    |   0.019715   |  0.689809  |   75.44   |   10.73  \n",
            "  18    |   0.017476   |  0.692098  |   75.60   |   10.71  \n",
            "  19    |   0.016373   |  0.714789  |   76.27   |   10.72  \n",
            "  20    |   0.014120   |  0.704182  |   75.94   |   10.70  \n",
            "\n",
            "\n",
            "Training complete! Best accuracy: 77.08%.\n"
          ]
        }
      ]
    },
    {
      "cell_type": "markdown",
      "source": [
        "#### Modelos con Glove"
      ],
      "metadata": {
        "id": "JgvIYR5foCOv"
      }
    },
    {
      "cell_type": "markdown",
      "source": [
        "##### Modelo basado en transfer learning con Glove descongelado "
      ],
      "metadata": {
        "id": "Nn91CW8LoCdo"
      }
    },
    {
      "cell_type": "code",
      "source": [
        "set_seed(42)\n",
        "cnn_Glove_descongelado, optimizer = initilize_model(pretrained_embedding=embeddings_Glove,\n",
        "                                            freeze_embedding=False,\n",
        "                                            learning_rate=0.25,\n",
        "                                            dropout=0.5)\n",
        "train(cnn_Glove_descongelado, optimizer, train_dataloader, val_dataloader, epochs=20)"
      ],
      "metadata": {
        "colab": {
          "base_uri": "https://localhost:8080/"
        },
        "id": "hVOEZtUSoCvw",
        "outputId": "92ded725-df05-4278-f243-0c14646c9ece"
      },
      "execution_count": null,
      "outputs": [
        {
          "output_type": "stream",
          "name": "stdout",
          "text": [
            "Start training...\n",
            "\n",
            " Epoch  |  Train Loss  |  Val Loss  |  Val Acc  |  Elapsed \n",
            "------------------------------------------------------------\n",
            "   1    |   1.784248   |  1.470333  |   32.90   |   15.59  \n",
            "   2    |   1.285337   |  1.127403  |   62.72   |   15.65  \n",
            "   3    |   0.901063   |  1.155124  |   55.49   |   15.42  \n",
            "   4    |   0.461553   |  0.920625  |   67.41   |   15.24  \n",
            "   5    |   0.247919   |  0.877979  |   67.91   |   15.23  \n",
            "   6    |   0.129137   |  0.908447  |   68.58   |   15.33  \n",
            "   7    |   0.088332   |  0.836383  |   70.24   |   15.41  \n",
            "   8    |   0.065097   |  0.898813  |   68.24   |   15.39  \n",
            "   9    |   0.049564   |  0.842117  |   68.94   |   15.38  \n",
            "  10    |   0.039615   |  0.886042  |   69.58   |   15.34  \n",
            "  11    |   0.036421   |  0.875027  |   69.24   |   15.32  \n",
            "  12    |   0.030070   |  0.888481  |   67.58   |   15.30  \n",
            "  13    |   0.028746   |  0.853048  |   68.58   |   15.33  \n",
            "  14    |   0.020661   |  0.846773  |   70.08   |   15.35  \n",
            "  15    |   0.016160   |  0.866403  |   68.08   |   15.37  \n",
            "  16    |   0.015370   |  0.870393  |   69.74   |   15.37  \n",
            "  17    |   0.015477   |  0.886966  |   69.72   |   15.37  \n",
            "  18    |   0.012797   |  0.879404  |   70.05   |   15.38  \n",
            "  19    |   0.012960   |  0.886049  |   68.74   |   15.37  \n",
            "  20    |   0.016212   |  0.919542  |   67.74   |   15.35  \n",
            "\n",
            "\n",
            "Training complete! Best accuracy: 70.24%.\n"
          ]
        }
      ]
    },
    {
      "cell_type": "markdown",
      "source": [
        "##### Modelo basado en transfer learning con Glove congelado "
      ],
      "metadata": {
        "id": "punh4XSzoCi5"
      }
    },
    {
      "cell_type": "code",
      "source": [
        "set_seed(42)\n",
        "cnn_Glove_congelado, optimizer = initilize_model(pretrained_embedding=embeddings_Glove,\n",
        "                                            freeze_embedding=True,\n",
        "                                            learning_rate=0.25,\n",
        "                                            dropout=0.5)\n",
        "train(cnn_Glove_congelado, optimizer, train_dataloader, val_dataloader, epochs=20)"
      ],
      "metadata": {
        "colab": {
          "base_uri": "https://localhost:8080/"
        },
        "id": "AzKu1So5oCyW",
        "outputId": "17bb71df-fbff-4a86-cf57-9511463b650c"
      },
      "execution_count": null,
      "outputs": [
        {
          "output_type": "stream",
          "name": "stdout",
          "text": [
            "Start training...\n",
            "\n",
            " Epoch  |  Train Loss  |  Val Loss  |  Val Acc  |  Elapsed \n",
            "------------------------------------------------------------\n",
            "   1    |   1.784824   |  1.474001  |   32.40   |   10.62  \n",
            "   2    |   1.297701   |  1.124493  |   63.58   |   10.71  \n",
            "   3    |   0.898814   |  1.146242  |   56.96   |   10.89  \n",
            "   4    |   0.466982   |  0.920381  |   66.27   |   10.93  \n",
            "   5    |   0.251917   |  0.883979  |   67.44   |   10.79  \n",
            "   6    |   0.131746   |  0.894949  |   68.24   |   10.69  \n",
            "   7    |   0.087063   |  0.872704  |   71.72   |   10.63  \n",
            "   8    |   0.066119   |  0.928833  |   66.60   |   10.62  \n",
            "   9    |   0.050937   |  0.849552  |   71.22   |   10.66  \n",
            "  10    |   0.039579   |  0.909317  |   70.38   |   10.71  \n",
            "  11    |   0.039085   |  0.857885  |   71.05   |   10.75  \n",
            "  12    |   0.025914   |  0.882029  |   69.72   |   10.73  \n",
            "  13    |   0.025012   |  0.849495  |   71.05   |   10.73  \n",
            "  14    |   0.021522   |  0.847735  |   70.74   |   10.74  \n",
            "  15    |   0.016679   |  0.847050  |   69.91   |   10.73  \n",
            "  16    |   0.013560   |  0.874282  |   69.24   |   10.73  \n",
            "  17    |   0.014910   |  0.882327  |   68.91   |   10.73  \n",
            "  18    |   0.013226   |  0.888305  |   69.91   |   10.70  \n",
            "  19    |   0.013315   |  0.879488  |   69.24   |   10.70  \n",
            "  20    |   0.014904   |  0.958945  |   65.77   |   10.69  \n",
            "\n",
            "\n",
            "Training complete! Best accuracy: 71.72%.\n"
          ]
        }
      ]
    },
    {
      "cell_type": "markdown",
      "source": [
        "#### Modelos con Word2Vec"
      ],
      "metadata": {
        "id": "l-vLaNt8oClb"
      }
    },
    {
      "cell_type": "markdown",
      "source": [
        "##### Modelo basado en transfer learning con Word2Vec descongelado "
      ],
      "metadata": {
        "id": "NEev8RydoCoB"
      }
    },
    {
      "cell_type": "code",
      "source": [
        "set_seed(42)\n",
        "cnn_W2V_descongelado, optimizer = initilize_model(pretrained_embedding=embeddings_Word2Vec,\n",
        "                                            freeze_embedding=False,\n",
        "                                            learning_rate=0.25,\n",
        "                                            dropout=0.5)\n",
        "train(cnn_W2V_descongelado, optimizer, train_dataloader, val_dataloader, epochs=20)\n"
      ],
      "metadata": {
        "colab": {
          "base_uri": "https://localhost:8080/"
        },
        "id": "Bnw0sTtgoC98",
        "outputId": "e0cfcf38-bd47-42db-f85e-fc125af5a556"
      },
      "execution_count": null,
      "outputs": [
        {
          "output_type": "stream",
          "name": "stdout",
          "text": [
            "Start training...\n",
            "\n",
            " Epoch  |  Train Loss  |  Val Loss  |  Val Acc  |  Elapsed \n",
            "------------------------------------------------------------\n",
            "   1    |   1.618980   |  1.620095  |   19.33   |   15.27  \n",
            "   2    |   1.581350   |  1.587210  |   28.73   |   15.50  \n",
            "   3    |   1.517161   |  1.542086  |   34.21   |   15.62  \n",
            "   4    |   1.401760   |  1.508827  |   34.71   |   15.42  \n",
            "   5    |   1.297745   |  1.502216  |   37.68   |   15.26  \n",
            "   6    |   1.129275   |  1.500030  |   37.18   |   15.23  \n",
            "   7    |   0.945362   |  1.425271  |   40.87   |   15.30  \n",
            "   8    |   0.738905   |  1.380465  |   44.87   |   15.39  \n",
            "   9    |   0.559340   |  1.360952  |   46.04   |   15.37  \n",
            "  10    |   0.393842   |  1.363100  |   45.04   |   15.36  \n",
            "  11    |   0.283393   |  1.335589  |   44.21   |   15.32  \n",
            "  12    |   0.202568   |  1.302149  |   47.85   |   15.32  \n",
            "  13    |   0.152474   |  1.303223  |   49.51   |   15.31  \n",
            "  14    |   0.114092   |  1.289274  |   49.18   |   15.30  \n",
            "  15    |   0.102521   |  1.276913  |   49.51   |   15.30  \n",
            "  16    |   0.079243   |  1.277885  |   50.85   |   15.30  \n",
            "  17    |   0.071648   |  1.265129  |   50.35   |   15.31  \n",
            "  18    |   0.060816   |  1.266443  |   50.85   |   15.32  \n",
            "  19    |   0.055527   |  1.262606  |   50.85   |   15.33  \n",
            "  20    |   0.049433   |  1.267842  |   50.49   |   15.34  \n",
            "\n",
            "\n",
            "Training complete! Best accuracy: 50.85%.\n"
          ]
        }
      ]
    },
    {
      "cell_type": "markdown",
      "source": [
        "##### Modelo basado en transfer learning con Word2Vec congelado "
      ],
      "metadata": {
        "id": "j4gZEZ9_W-Fo"
      }
    },
    {
      "cell_type": "code",
      "source": [
        "set_seed(42)\n",
        "cnn_W2V_descongelado, optimizer = initilize_model(pretrained_embedding=embeddings_Word2Vec,\n",
        "                                            freeze_embedding=True,\n",
        "                                            learning_rate=0.25,\n",
        "                                            dropout=0.5)\n",
        "train(cnn_W2V_descongelado, optimizer, train_dataloader, val_dataloader, epochs=20)"
      ],
      "metadata": {
        "colab": {
          "base_uri": "https://localhost:8080/"
        },
        "id": "eBj3bRtJoDAh",
        "outputId": "9cc91379-7f90-4b84-c0be-7c78e43d925b"
      },
      "execution_count": null,
      "outputs": [
        {
          "output_type": "stream",
          "name": "stdout",
          "text": [
            "Start training...\n",
            "\n",
            " Epoch  |  Train Loss  |  Val Loss  |  Val Acc  |  Elapsed \n",
            "------------------------------------------------------------\n",
            "   1    |   1.618991   |  1.620120  |   19.33   |   10.74  \n",
            "   2    |   1.582052   |  1.588106  |   28.56   |   10.73  \n",
            "   3    |   1.519676   |  1.545048  |   34.87   |   10.74  \n",
            "   4    |   1.407127   |  1.511000  |   35.04   |   10.75  \n",
            "   5    |   1.306250   |  1.503754  |   37.51   |   10.76  \n",
            "   6    |   1.141716   |  1.502073  |   37.01   |   10.76  \n",
            "   7    |   0.964340   |  1.431219  |   41.21   |   10.74  \n",
            "   8    |   0.764023   |  1.388179  |   44.68   |   10.74  \n",
            "   9    |   0.588444   |  1.370532  |   44.21   |   10.73  \n",
            "  10    |   0.420380   |  1.375874  |   44.71   |   10.75  \n",
            "  11    |   0.306461   |  1.347252  |   44.37   |   10.74  \n",
            "  12    |   0.221151   |  1.310915  |   48.35   |   10.73  \n",
            "  13    |   0.167255   |  1.315927  |   48.21   |   10.73  \n",
            "  14    |   0.125688   |  1.304233  |   46.71   |   10.73  \n",
            "  15    |   0.111310   |  1.289412  |   49.85   |   10.74  \n",
            "  16    |   0.087614   |  1.288833  |   49.32   |   10.74  \n",
            "  17    |   0.078486   |  1.279374  |   49.35   |   10.73  \n",
            "  18    |   0.067428   |  1.280137  |   50.01   |   10.73  \n",
            "  19    |   0.061330   |  1.274301  |   50.49   |   10.73  \n",
            "  20    |   0.054998   |  1.278540  |   49.35   |   10.73  \n",
            "\n",
            "\n",
            "Training complete! Best accuracy: 50.49%.\n"
          ]
        }
      ]
    },
    {
      "cell_type": "markdown",
      "source": [
        "### Paso 4: Evaluación de los mejores modelos"
      ],
      "metadata": {
        "id": "S39WjdHjokLH"
      }
    },
    {
      "cell_type": "markdown",
      "source": [
        "Del entrenamiento de las redes anteriores es que se tiene la siguiente tabla donde se compara el modelo, si tuvo o no fine tuning, su presición y en que epoca fue que alcanzo este resultado. Notamos que varias de las arquitecturas requirieron bastantes epocas para alcanzar sus mejores resultados, mientras que otras no lo alzanzaron sino hasta el final; lo cual podria ser indicio de que requieren más tiempo para ejecutarse con mejores resultados. \n",
        "\n",
        "Todas las redes fueron ejecutadas con los mismos parametros.\n",
        "\n",
        "\n",
        "Modelo | Accuracy train | Epoch\n",
        "--- | --- | ---\n",
        "s/transfer learning    | 69.77%.   | 18\n",
        "FastText descongelado  | 77.74%    | 20\n",
        "FastText congelado     | 77.08%    | 14\n",
        "Word2Vec descongelado  | 50.49%.   | 19\n",
        "Word2Vec congelado     | 50.49%    | 20\n",
        "Glove  descongelado    | 70.24%.   | 7\n",
        "Glove   congelado      | 71.72%    | 7\n",
        "\n",
        "De lo anterior es que notamos que el modelo de FastText fue el más apropiado para el tipo de datos con su particular preprocesamiento, mientras que Glove fue el que llego a sus mejores resultados con menos epocas. Sin embargo algo interesante a resaltar es que el modelo sin transfer learning tuvo resultados satisfactorios, superando incluso a los arrojados por Glove. "
      ],
      "metadata": {
        "id": "RMBevawxoy7l"
      }
    },
    {
      "cell_type": "markdown",
      "source": [],
      "metadata": {
        "id": "XPLYHfqOXci1"
      }
    },
    {
      "cell_type": "code",
      "source": [],
      "metadata": {
        "id": "RhPHU3veozDQ"
      },
      "execution_count": null,
      "outputs": []
    },
    {
      "cell_type": "markdown",
      "source": [],
      "metadata": {
        "id": "9HZ4JAryozKp"
      }
    },
    {
      "cell_type": "code",
      "source": [],
      "metadata": {
        "id": "5QwxWT9OozOq"
      },
      "execution_count": null,
      "outputs": []
    },
    {
      "cell_type": "code",
      "source": [],
      "metadata": {
        "id": "uuz60eb0ozRo"
      },
      "execution_count": null,
      "outputs": []
    },
    {
      "cell_type": "markdown",
      "source": [
        "### Paso 5: Conclusiones"
      ],
      "metadata": {
        "id": "SzY1h42oo2lx"
      }
    },
    {
      "cell_type": "markdown",
      "source": [
        "#Problema 3: Clasificación por categoria y sentimiento de Amazon Reviews Corpus\n"
      ],
      "metadata": {
        "id": "KOZR2k4HuKOY"
      }
    },
    {
      "cell_type": "markdown",
      "source": [
        "Extraemos lo que requerimos de las reviews (la review, la calificación y la categoria del producto) unicamente de las "
      ],
      "metadata": {
        "id": "FoAO1AVaq2wy"
      }
    },
    {
      "cell_type": "code",
      "source": [
        "#train=dataset['train'][:'review_body','stars','product_category']\n",
        "train= df_train.loc[:,['review_body','stars','product_category']]\n",
        "train_tmp = pd.DataFrame"
      ],
      "metadata": {
        "id": "AOfjTbOmrJBE"
      },
      "execution_count": null,
      "outputs": []
    },
    {
      "cell_type": "markdown",
      "source": [],
      "metadata": {
        "id": "algj-bbx_yaS"
      }
    },
    {
      "cell_type": "code",
      "source": [
        "categorias = ['home', 'wireless', 'toy', 'sports', 'pc', 'home_improvement', 'electronics']\n",
        "\n",
        "def select_by_category(dataset_file, category_name):\n",
        "  data_reducido = dataset_file.loc[:, ['review_body','stars','product_category']]\n",
        "  data_reducido = data_reducido[data_reducido['product_category']==category_name]\n",
        "  return (data_reducido)\n",
        "\n",
        "train_tmp = pd.DataFrame"
      ],
      "metadata": {
        "id": "zTejT0jJ_ylP"
      },
      "execution_count": null,
      "outputs": []
    },
    {
      "cell_type": "code",
      "source": [
        "t1 = select_by_category(train,categorias[0])\n",
        "t2 = select_by_category(train,categorias[1])\n",
        "t3 = select_by_category(train,categorias[2])\n",
        "t4 = select_by_category(train,categorias[3])\n",
        "t5 = select_by_category(train,categorias[4])\n",
        "t6 = select_by_category(train,categorias[5])\n",
        "t7 = select_by_category(train,categorias[6])"
      ],
      "metadata": {
        "id": "D86MHG4CBHp-"
      },
      "execution_count": null,
      "outputs": []
    },
    {
      "cell_type": "markdown",
      "source": [],
      "metadata": {
        "id": "cf9Ger3uEUss"
      }
    },
    {
      "cell_type": "code",
      "source": [
        "training=list(t1['review_body'])+list(t2['review_body'])+list(t3['review_body'])+list(t4['review_body'])+list(t5['review_body'])+list(t6['review_body'])+list(t7['review_body'])"
      ],
      "metadata": {
        "id": "My3JI1WRoFqu"
      },
      "execution_count": null,
      "outputs": []
    },
    {
      "cell_type": "code",
      "source": [
        "train_clean = pd.concat([t1, t2])\n",
        "train_clean = pd.concat([train_clean,t3])\n",
        "train_clean = pd.concat([train_clean,t4])\n",
        "train_clean = pd.concat([train_clean,t5])\n",
        "train_clean = pd.concat([train_clean,t6])\n",
        "train_clean = pd.concat([train_clean,t7])"
      ],
      "metadata": {
        "id": "_nsMc0IcEVLQ"
      },
      "execution_count": null,
      "outputs": []
    },
    {
      "cell_type": "code",
      "source": [
        "print(len(t1)+len(t2)+len(t3)+len(t4)+len(t5)+len(t6)+len(t7))\n",
        "print(len(training))"
      ],
      "metadata": {
        "colab": {
          "base_uri": "https://localhost:8080/"
        },
        "id": "5W4hvUTkApKf",
        "outputId": "ac08b974-37e3-479e-e110-71f14b5fbc8c"
      },
      "execution_count": null,
      "outputs": [
        {
          "output_type": "stream",
          "name": "stdout",
          "text": [
            "112139\n",
            "112139\n",
            "112139\n"
          ]
        }
      ]
    },
    {
      "cell_type": "markdown",
      "source": [
        "Ahora realizamos el cambio de estrellas a negativo (0) y positivo (1)"
      ],
      "metadata": {
        "id": "XoB70D0h3oF_"
      }
    },
    {
      "cell_type": "code",
      "source": [
        "def stars_to_sentiment(df_star):\n",
        "  df = df_star['stars']\n",
        "  encoded_labels = np.array([1 if label >= 3 else 0 for label in df])\n",
        "  return encoded_labels"
      ],
      "metadata": {
        "id": "toWj_QDoHd8_"
      },
      "execution_count": null,
      "outputs": []
    },
    {
      "cell_type": "code",
      "source": [
        "train_clean['stars'] = stars_to_sentiment(train_clean)"
      ],
      "metadata": {
        "id": "as8UfchU0MUH"
      },
      "execution_count": null,
      "outputs": []
    },
    {
      "cell_type": "markdown",
      "source": [
        "Ahora vuelvo numericas las categorias del producto"
      ],
      "metadata": {
        "id": "15_pob21J1Q3"
      }
    },
    {
      "cell_type": "code",
      "source": [
        "train_clean.product_category = pd.Categorical(train_clean.product_category) #se cambio el tipo de la columna:"
      ],
      "metadata": {
        "id": "dQeWGHWeJ4rM"
      },
      "execution_count": null,
      "outputs": []
    },
    {
      "cell_type": "markdown",
      "source": [],
      "metadata": {
        "id": "vfaNsm55K-6j"
      }
    },
    {
      "cell_type": "code",
      "source": [
        "train_clean['product_category'] = train_clean.product_category.cat.codes"
      ],
      "metadata": {
        "id": "rqPRJQkLLF9g"
      },
      "execution_count": null,
      "outputs": []
    },
    {
      "cell_type": "code",
      "source": [
        "y_train_star = train_clean['stars']\n",
        "y_train_cat = train_clean['product_category']\n",
        "X_train = training"
      ],
      "metadata": {
        "id": "dDCCtftqymbn"
      },
      "execution_count": null,
      "outputs": []
    },
    {
      "cell_type": "code",
      "source": [
        "val= df_validation.loc[:,['review_body','stars','product_category']]\n",
        "val_tmp = pd.DataFrame"
      ],
      "metadata": {
        "id": "A2BUDaOY0rQz"
      },
      "execution_count": null,
      "outputs": []
    },
    {
      "cell_type": "code",
      "source": [
        "v1 = select_by_category(val,categorias[0])\n",
        "v2 = select_by_category(val,categorias[1])\n",
        "v3 = select_by_category(val,categorias[2])\n",
        "v4 = select_by_category(val,categorias[3])\n",
        "v5 = select_by_category(val,categorias[4])\n",
        "v6 = select_by_category(val,categorias[5])\n",
        "v7 = select_by_category(val,categorias[6])"
      ],
      "metadata": {
        "id": "DNgDTPAIM_J6"
      },
      "execution_count": null,
      "outputs": []
    },
    {
      "cell_type": "code",
      "source": [
        "val_clean = pd.concat([v1, v2])\n",
        "val_clean = pd.concat([val_clean,v3])\n",
        "val_clean = pd.concat([val_clean,v4])\n",
        "val_clean = pd.concat([val_clean,v5])\n",
        "val_clean = pd.concat([val_clean,v6])\n",
        "val_clean = pd.concat([val_clean,v7])"
      ],
      "metadata": {
        "id": "eeflze0PNJwF"
      },
      "execution_count": null,
      "outputs": []
    },
    {
      "cell_type": "code",
      "source": [
        "validation=list(v1['review_body'])+list(v2['review_body'])+list(v3['review_body'])+list(v4['review_body'])+list(v5['review_body'])+list(v6['review_body'])+list(v7['review_body'])"
      ],
      "metadata": {
        "id": "eUYdp2Zao3SW"
      },
      "execution_count": null,
      "outputs": []
    },
    {
      "cell_type": "markdown",
      "source": [
        "estrellas"
      ],
      "metadata": {
        "id": "Gx9qE6MpNqdi"
      }
    },
    {
      "cell_type": "code",
      "source": [
        "val_clean['stars'] = stars_to_sentiment(val_clean)"
      ],
      "metadata": {
        "id": "wWN-zvPENhg1"
      },
      "execution_count": null,
      "outputs": []
    },
    {
      "cell_type": "markdown",
      "source": [
        "categorias"
      ],
      "metadata": {
        "id": "-kGHIiEXNoxu"
      }
    },
    {
      "cell_type": "code",
      "source": [
        "val_clean.product_category = pd.Categorical(val_clean.product_category) #se cambio el tipo de la columna:\n",
        "val_clean['product_category'] = val_clean.product_category.cat.codes"
      ],
      "metadata": {
        "id": "qxF9A-rhNoCp"
      },
      "execution_count": null,
      "outputs": []
    },
    {
      "cell_type": "markdown",
      "source": [
        "Obtenemos el conjunto de validación y sus etiquetas para ambas tareas de clasificación"
      ],
      "metadata": {
        "id": "L3yNu2fQN4yl"
      }
    },
    {
      "cell_type": "code",
      "source": [
        "y_val_star = val_clean['stars']\n",
        "y_val_cat  = val_clean['product_category']\n",
        "X_val      = val_clean['review_body']"
      ],
      "metadata": {
        "id": "7enl-mYeOBD8"
      },
      "execution_count": null,
      "outputs": []
    },
    {
      "cell_type": "code",
      "source": [
        "print(len(v1)+len(v2)+len(v3)+len(v4)+len(v5)+len(v6)+len(v7))\n",
        "print(len(y_val_cat))\n",
        "print(len(validation))"
      ],
      "metadata": {
        "colab": {
          "base_uri": "https://localhost:8080/"
        },
        "id": "91000kbosyrf",
        "outputId": "4a2ab8b2-5f08-448f-dcb4-152b83c37ae4"
      },
      "execution_count": null,
      "outputs": [
        {
          "output_type": "stream",
          "name": "stdout",
          "text": [
            "2817\n",
            "2817\n",
            "2817\n"
          ]
        }
      ]
    },
    {
      "cell_type": "markdown",
      "source": [],
      "metadata": {
        "id": "s-urZ7j4pREn"
      }
    },
    {
      "cell_type": "code",
      "source": [
        "texts  = training \n",
        "labels = y_train_cat "
      ],
      "metadata": {
        "id": "PsqjchgdpRQ2"
      },
      "execution_count": null,
      "outputs": []
    },
    {
      "cell_type": "code",
      "source": [
        "print( len(training)) \n",
        "print(len(y_train_cat))"
      ],
      "metadata": {
        "colab": {
          "base_uri": "https://localhost:8080/"
        },
        "id": "3Rd0QQBSpZ9Q",
        "outputId": "e6a7c649-3f55-455e-f324-0b4c9b91a3ab"
      },
      "execution_count": null,
      "outputs": [
        {
          "output_type": "stream",
          "name": "stdout",
          "text": [
            "112139\n",
            "112139\n"
          ]
        }
      ]
    },
    {
      "cell_type": "markdown",
      "source": [
        "# Problema 3: Clasificados de producto y sentimiento para el conjunto \"Amazon reviews\""
      ],
      "metadata": {
        "id": "Bl-fdtJ2e1iU"
      }
    },
    {
      "cell_type": "markdown",
      "source": [
        "## Paso 0: Descarga y preprocesamiento de los datos"
      ],
      "metadata": {
        "id": "jlIybQoAKITU"
      }
    },
    {
      "cell_type": "code",
      "source": [
        "#!pip install datasets\n",
        "#Se tiene que usar cada vez que corremos el codigo desde 0"
      ],
      "metadata": {
        "id": "gNm0Qf5pNnnl"
      },
      "execution_count": null,
      "outputs": []
    },
    {
      "cell_type": "code",
      "source": [
        "#descargamos el corpus\n",
        "from datasets import load_dataset, get_dataset_config_names\n",
        "from IPython.display import display, HTML\n",
        "dataset_name = \"amazon_reviews_multi\"\n",
        "dataset = load_dataset(path=dataset_name, name=\"es\")"
      ],
      "metadata": {
        "id": "MbMmmHv8N6BN"
      },
      "execution_count": null,
      "outputs": []
    },
    {
      "cell_type": "code",
      "source": [
        "train=dataset['train'][:]\n",
        "validation=dataset['validation'][:]\n",
        "test=dataset['test'][:]"
      ],
      "metadata": {
        "id": "1jnDzUFeD9zK"
      },
      "execution_count": null,
      "outputs": []
    },
    {
      "cell_type": "code",
      "source": [
        "train1=train[train['product_category']=='home']\n",
        "train2=train[train['product_category']=='wireless']\n",
        "train3=train[train['product_category']=='toy']\n",
        "train4=train[train['product_category']=='sports']\n",
        "train5=train[train['product_category']=='pc']\n",
        "train6=train[train['product_category']=='home_improvement']\n",
        "train7=train[train['product_category']=='electronics']"
      ],
      "metadata": {
        "id": "OXxxdtWeEBdM"
      },
      "execution_count": null,
      "outputs": []
    },
    {
      "cell_type": "code",
      "source": [
        "training=list(train1['review_body'])+list(train2['review_body'])+list(train3['review_body'])+list(train4['review_body'])+list(train5['review_body'])+list(train6['review_body'])+list(train7['review_body'])\n",
        "labels=list(train1['product_category'])+list(train2['product_category'])+list(train3['product_category'])+list(train4['product_category'])+list(train5['product_category'])+list(train6['product_category'])+list(train7['product_category'])\n"
      ],
      "metadata": {
        "id": "uDvk-bYuEDt1"
      },
      "execution_count": null,
      "outputs": []
    },
    {
      "cell_type": "code",
      "source": [
        "for i in range(len(labels)):\n",
        "  if(labels[i]=='home'):\n",
        "    labels[i]=0\n",
        "  elif(labels[i]=='wireless'):\n",
        "    labels[i]=1\n",
        "  elif(labels[i]=='toy'):\n",
        "    labels[i]=2\n",
        "  elif(labels[i]=='sports'):\n",
        "    labels[i]=3\n",
        "  elif(labels[i]=='pc'):\n",
        "    labels[i]=4\n",
        "  elif(labels[i]=='home_improvement'):\n",
        "    labels[i]=5\n",
        "  else:\n",
        "    labels[i]=6"
      ],
      "metadata": {
        "id": "CxmF6OxMED28"
      },
      "execution_count": null,
      "outputs": []
    },
    {
      "cell_type": "code",
      "source": [
        "stemmer = WordNetLemmatizer()\n",
        "word_punctuation_tokenizer = nltk.WordPunctTokenizer()\n",
        "\n",
        "def preprocess_text(document):\n",
        "        # Remove all the special characters\n",
        "        document = re.sub(r'\\W', ' ', str(document))\n",
        "\n",
        "        # remove all single characters\n",
        "        document = re.sub(r'\\s+[a-zA-Z]\\s+', ' ', document)\n",
        "\n",
        "        # Remove single characters from the start\n",
        "        document = re.sub(r'\\^[a-zA-Z]\\s+', ' ', document)\n",
        "\n",
        "        # Substituting multiple spaces with single space\n",
        "        document = re.sub(r'\\s+', ' ', document, flags=re.I)\n",
        "\n",
        "        # Removing prefixed 'b'\n",
        "        document = re.sub(r'^b\\s+', '', document)\n",
        "\n",
        "        # Converting to Lowercase\n",
        "        document = document.lower()\n",
        "\n",
        "        # Lemmatization\n",
        "        tokens = document.split()\n",
        "        tokens = [stemmer.lemmatize(word) for word in tokens]\n",
        "        tokens = [word for word in tokens if word not in es_stop]\n",
        "        tokens = [word for word in tokens if len(word) > 3]\n",
        "\n",
        "        preprocessed_text = ' '.join(tokens)\n",
        "\n",
        "        return preprocessed_text"
      ],
      "metadata": {
        "id": "SGcTJqpPEhEg"
      },
      "execution_count": null,
      "outputs": []
    },
    {
      "cell_type": "markdown",
      "source": [
        "Preprocesamos el texto"
      ],
      "metadata": {
        "id": "eD5YveLYFc9E"
      }
    },
    {
      "cell_type": "code",
      "source": [
        "final_corpus = [preprocess_text(document) for document in texts if document.strip() !='']"
      ],
      "metadata": {
        "id": "cxeRWM6mEwsA"
      },
      "execution_count": null,
      "outputs": []
    },
    {
      "cell_type": "code",
      "source": [
        "# Tokenize, build vocabulary, encode tokens\n",
        "tokenized_texts, word2idx, max_len = tokenize(final_corpus)\n",
        "input_ids = encode(tokenized_texts, word2idx, max_len)"
      ],
      "metadata": {
        "id": "hyf41i5QFAnw"
      },
      "execution_count": null,
      "outputs": []
    },
    {
      "cell_type": "markdown",
      "source": [
        "#### Construccion del DataLoader"
      ],
      "metadata": {
        "id": "gaCekUYKFHyE"
      }
    },
    {
      "cell_type": "code",
      "source": [
        "from torch.utils.data import (TensorDataset, DataLoader, RandomSampler, SequentialSampler)"
      ],
      "metadata": {
        "id": "o5xJYO7qF8GJ"
      },
      "execution_count": null,
      "outputs": []
    },
    {
      "cell_type": "code",
      "source": [
        "def data_loader(train_inputs, val_inputs, train_labels, val_labels, batch_size=50):\n",
        "    \"\"\"Convert train and validation sets to torch.Tensors and load them to\n",
        "    DataLoader.\n",
        "    \"\"\"\n",
        "\n",
        "    # Convert data type to torch.Tensor\n",
        "    train_inputs, val_inputs, train_labels, val_labels =tuple(torch.tensor(data) for data in [train_inputs, val_inputs, train_labels, val_labels])\n",
        "\n",
        "    # Specify batch_size\n",
        "    batch_size = 50\n",
        "\n",
        "    # Create DataLoader for training data\n",
        "    train_data = TensorDataset(train_inputs, train_labels)\n",
        "    train_sampler = RandomSampler(train_data)\n",
        "    train_dataloader = DataLoader(train_data, sampler=train_sampler, batch_size=batch_size)\n",
        "\n",
        "    # Create DataLoader for validation data\n",
        "    val_data = TensorDataset(val_inputs, val_labels)\n",
        "    val_sampler = SequentialSampler(val_data)\n",
        "    val_dataloader = DataLoader(val_data, sampler=val_sampler, batch_size=batch_size)\n",
        "\n",
        "    return train_dataloader, val_dataloader"
      ],
      "metadata": {
        "id": "HmmTO0lzFIyT"
      },
      "execution_count": null,
      "outputs": []
    },
    {
      "cell_type": "code",
      "source": [
        "from sklearn.model_selection import train_test_split\n",
        "\n",
        "# Train Test Split\n",
        "train_inputs, val_inputs, train_labels, val_labels = train_test_split(input_ids, labels, test_size=0.1, random_state=42)\n",
        "\n",
        "# Load data to PyTorch DataLoader\n",
        "train_dataloader, val_dataloader = data_loader(train_inputs, val_inputs, train_labels, val_labels, batch_size=50)"
      ],
      "metadata": {
        "id": "NV5M2Pv8FKSr"
      },
      "execution_count": null,
      "outputs": []
    },
    {
      "cell_type": "markdown",
      "source": [
        "#### Construccion de los embeddings"
      ],
      "metadata": {
        "id": "w4JD2JDgFopQ"
      }
    },
    {
      "cell_type": "markdown",
      "source": [
        "FastText"
      ],
      "metadata": {
        "id": "9_wIQlH6FuHc"
      }
    },
    {
      "cell_type": "code",
      "source": [
        "embeddings_FastText = load_pretrained_vectors(word2idx, \"/content/drive/MyDrive/NLP/FastText/embeddings-l-model.vec\")\n",
        "embeddings_FastText = torch.tensor(embeddings_FastText)"
      ],
      "metadata": {
        "colab": {
          "base_uri": "https://localhost:8080/",
          "height": 138,
          "referenced_widgets": [
            "8244c6d5bac14135a24caba0cf1e342d",
            "a18d4460d7304ee8b4938c499ba27bec",
            "3f3ef001b87947c48ba5356ff2939210",
            "31ad6afeefe04924a5db6b90b6a0bda9",
            "4710d406494d4094aa744cbc46333da4",
            "de531a6d081f4bf183b90b9201334257",
            "db89aecde53d4d43bcc806217bdf2077",
            "9a89c67e9ffc4e3fa042df290e9be5d0",
            "341a7b6d5bb5412bb5e63f1e73e1c9ae",
            "671cbbe14a594484b159264cb328ffbf",
            "17e14ba51bb64189978c74f85020abc4"
          ]
        },
        "id": "RK7LA4PrFo8X",
        "outputId": "d5ce93d0-b719-478b-bd8d-e04a2e1fbed9"
      },
      "execution_count": null,
      "outputs": [
        {
          "output_type": "stream",
          "name": "stdout",
          "text": [
            "Loading pretrained vectors...\n"
          ]
        },
        {
          "output_type": "stream",
          "name": "stderr",
          "text": [
            "/usr/local/lib/python3.7/dist-packages/ipykernel_launcher.py:25: TqdmDeprecationWarning: This function will be removed in tqdm==5.0.0\n",
            "Please use `tqdm.notebook.tqdm` instead of `tqdm.tqdm_notebook`\n"
          ]
        },
        {
          "output_type": "display_data",
          "data": {
            "text/plain": [
              "0it [00:00, ?it/s]"
            ],
            "application/vnd.jupyter.widget-view+json": {
              "version_major": 2,
              "version_minor": 0,
              "model_id": "8244c6d5bac14135a24caba0cf1e342d"
            }
          },
          "metadata": {}
        },
        {
          "output_type": "stream",
          "name": "stdout",
          "text": [
            "There are 37092 / 39720 pretrained vectors found.\n"
          ]
        }
      ]
    },
    {
      "cell_type": "markdown",
      "source": [
        "Word2Vecc"
      ],
      "metadata": {
        "id": "ArOCpG8nFvxM"
      }
    },
    {
      "cell_type": "code",
      "source": [
        "#Word2Vec\n",
        "embeddings_Word2Vec = load_pretrained_vectors(word2idx, \"/content/drive/MyDrive/T3/SBW-vectors-300-min5.txt\")\n",
        "embeddings_Word2Vec = torch.tensor(embeddings_Word2Vec)"
      ],
      "metadata": {
        "colab": {
          "base_uri": "https://localhost:8080/",
          "height": 138,
          "referenced_widgets": [
            "874003a43f984abca0a3ff32845f7d5b",
            "06d9bee2ec9b45a1b78bff8c1565014e",
            "f7da6bdb41a0436398f181db8fd6a1de",
            "e99b6810fc8c40659efe1c28b978a9be",
            "6bc038238e5c434cae472a9ed073d069",
            "9c400e786cd54b18952479b09d5ddcbd",
            "31e11f62d03e4c27b3eef68c7eccb672",
            "44eb37ee04a541868ab9f22e77c26e4a",
            "f32928fda1494a028db4054ac1008050",
            "831da5db3ee248e5b51a069fc1f1d47d",
            "0a2949563ed341ad9ff69e860cbd6f22"
          ]
        },
        "id": "Vo3eulFWFxdM",
        "outputId": "685a872a-b8fd-4cff-f9c0-b687240beaf9"
      },
      "execution_count": null,
      "outputs": [
        {
          "output_type": "stream",
          "name": "stdout",
          "text": [
            "Loading pretrained vectors...\n"
          ]
        },
        {
          "output_type": "stream",
          "name": "stderr",
          "text": [
            "/usr/local/lib/python3.7/dist-packages/ipykernel_launcher.py:25: TqdmDeprecationWarning: This function will be removed in tqdm==5.0.0\n",
            "Please use `tqdm.notebook.tqdm` instead of `tqdm.tqdm_notebook`\n"
          ]
        },
        {
          "output_type": "display_data",
          "data": {
            "text/plain": [
              "0it [00:00, ?it/s]"
            ],
            "application/vnd.jupyter.widget-view+json": {
              "version_major": 2,
              "version_minor": 0,
              "model_id": "874003a43f984abca0a3ff32845f7d5b"
            }
          },
          "metadata": {}
        },
        {
          "output_type": "stream",
          "name": "stdout",
          "text": [
            "There are 34022 / 39720 pretrained vectors found.\n"
          ]
        }
      ]
    },
    {
      "cell_type": "markdown",
      "source": [
        "Glove"
      ],
      "metadata": {
        "id": "my90lYB3FxkQ"
      }
    },
    {
      "cell_type": "code",
      "source": [
        "#Globe /content/drive/MyDrive/T3/glove-sbwc.i25.vec\n",
        "embeddings_Glove = load_pretrained_vectors(word2idx, \"/content/drive/MyDrive/T3/glove-sbwc.i25.vec\")\n",
        "embeddings_Glove = torch.tensor(embeddings_Glove)"
      ],
      "metadata": {
        "colab": {
          "base_uri": "https://localhost:8080/",
          "height": 138,
          "referenced_widgets": [
            "f8412222b6264a47a6d6eab5a72907ae",
            "d445c77294b74ea8ace729a46993b9d1",
            "f3bb82e31d894cb0a6331858501baa38",
            "c2098d8f70ab4a29a89ccbc875aeefea",
            "8ffd17ddcee64c308b5bdca11f4ce3cd",
            "1ea30a6965be4334941dc51cdd9781bd",
            "9ab55dc54c7f4200b7a135096df95286",
            "acb0537c03e0442ba733ce0ce95d71ff",
            "4f101375bc2b4c75ba28ced6dd14f002",
            "099d5338e46243eb99f937986f6861bc",
            "652bcccfb5f848309c5994d88999f439"
          ]
        },
        "id": "cJgTlmINFy3G",
        "outputId": "08e99f18-78be-4c4c-92ed-7e8d661a962e"
      },
      "execution_count": null,
      "outputs": [
        {
          "output_type": "stream",
          "name": "stdout",
          "text": [
            "Loading pretrained vectors...\n"
          ]
        },
        {
          "output_type": "stream",
          "name": "stderr",
          "text": [
            "/usr/local/lib/python3.7/dist-packages/ipykernel_launcher.py:25: TqdmDeprecationWarning: This function will be removed in tqdm==5.0.0\n",
            "Please use `tqdm.notebook.tqdm` instead of `tqdm.tqdm_notebook`\n"
          ]
        },
        {
          "output_type": "display_data",
          "data": {
            "text/plain": [
              "0it [00:00, ?it/s]"
            ],
            "application/vnd.jupyter.widget-view+json": {
              "version_major": 2,
              "version_minor": 0,
              "model_id": "f8412222b6264a47a6d6eab5a72907ae"
            }
          },
          "metadata": {}
        },
        {
          "output_type": "stream",
          "name": "stdout",
          "text": [
            "There are 34952 / 39720 pretrained vectors found.\n"
          ]
        }
      ]
    },
    {
      "cell_type": "markdown",
      "source": [
        "##Paso 1:Construcción de la CNN para la clasificación de la clase de producto\n",
        "Usaremos la misma que para el problema 2 ajustada a que ahora son 7 clases (1 para cada tipo de producto)"
      ],
      "metadata": {
        "id": "lE4DZwcNGptU"
      }
    },
    {
      "cell_type": "code",
      "source": [
        "class CNN_NLP(nn.Module):\n",
        "    \"\"\"An 1D Convulational Neural Network for Sentence Classification.\"\"\"\n",
        "    def __init__(self,\n",
        "                 pretrained_embedding=None,\n",
        "                 freeze_embedding=False,\n",
        "                 vocab_size=None,\n",
        "                 embed_dim=300,\n",
        "                 filter_sizes=[3, 4, 5],\n",
        "                 num_filters=[100, 100, 100],\n",
        "                 num_classes=7,\n",
        "                 dropout=0.5):\n",
        "        \"\"\"\n",
        "        The constructor for CNN_NLP class.\n",
        "\n",
        "        Args:\n",
        "            pretrained_embedding (torch.Tensor): Pretrained embeddings with\n",
        "                shape (vocab_size, embed_dim)\n",
        "            freeze_embedding (bool): Set to False to fine-tune pretraiend\n",
        "                vectors. Default: False\n",
        "            vocab_size (int): Need to be specified when not pretrained word\n",
        "                embeddings are not used.\n",
        "            embed_dim (int): Dimension of word vectors. Need to be specified\n",
        "                when pretrained word embeddings are not used. Default: 300\n",
        "            filter_sizes (List[int]): List of filter sizes. Default: [3, 4, 5]\n",
        "            num_filters (List[int]): List of number of filters, has the same\n",
        "                length as `filter_sizes`. Default: [100, 100, 100]\n",
        "            n_classes (int): Number of classes. Default: 2\n",
        "            dropout (float): Dropout rate. Default: 0.5\n",
        "        \"\"\"\n",
        "\n",
        "        super(CNN_NLP, self).__init__()\n",
        "        # Embedding layer\n",
        "        if pretrained_embedding is not None:\n",
        "            self.vocab_size, self.embed_dim = pretrained_embedding.shape\n",
        "            self.embedding = nn.Embedding.from_pretrained(pretrained_embedding,\n",
        "                                                          freeze=freeze_embedding)\n",
        "        else:\n",
        "            self.embed_dim = embed_dim\n",
        "            self.embedding = nn.Embedding(num_embeddings=vocab_size,\n",
        "                                          embedding_dim=self.embed_dim,\n",
        "                                          padding_idx=0,\n",
        "                                          max_norm=5.0)\n",
        "        # Conv Network\n",
        "        self.conv1d_list = nn.ModuleList([\n",
        "            nn.Conv1d(in_channels=self.embed_dim,\n",
        "                      out_channels=num_filters[i],\n",
        "                      kernel_size=filter_sizes[i])\n",
        "            for i in range(len(filter_sizes))\n",
        "        ])\n",
        "        # Fully-connected layer and Dropout\n",
        "        self.fc = nn.Linear(np.sum(num_filters), num_classes)\n",
        "        self.dropout = nn.Dropout(p=dropout)\n",
        "\n",
        "    def forward(self, input_ids):\n",
        "        \"\"\"Perform a forward pass through the network.\n",
        "\n",
        "        Args:\n",
        "            input_ids (torch.Tensor): A tensor of token ids with shape\n",
        "                (batch_size, max_sent_length)\n",
        "\n",
        "        Returns:\n",
        "            logits (torch.Tensor): Output logits with shape (batch_size,\n",
        "                n_classes)\n",
        "        \"\"\"\n",
        "\n",
        "        # Get embeddings from `input_ids`. Output shape: (b, max_len, embed_dim)\n",
        "        x_embed = self.embedding(input_ids).float()\n",
        "\n",
        "        # Permute `x_embed` to match input shape requirement of `nn.Conv1d`.\n",
        "        # Output shape: (b, embed_dim, max_len)\n",
        "        x_reshaped = x_embed.permute(0, 2, 1)\n",
        "\n",
        "        # Apply CNN and ReLU. Output shape: (b, num_filters[i], L_out)\n",
        "        x_conv_list = [F.relu(conv1d(x_reshaped)) for conv1d in self.conv1d_list]\n",
        "\n",
        "        # Max pooling. Output shape: (b, num_filters[i], 1)\n",
        "        x_pool_list = [F.max_pool1d(x_conv, kernel_size=x_conv.shape[2])\n",
        "            for x_conv in x_conv_list]\n",
        "        \n",
        "        # Concatenate x_pool_list to feed the fully connected layer.\n",
        "        # Output shape: (b, sum(num_filters))\n",
        "        x_fc = torch.cat([x_pool.squeeze(dim=2) for x_pool in x_pool_list],\n",
        "                         dim=1)\n",
        "        \n",
        "        # Compute logits. Output shape: (b, n_classes)\n",
        "        logits = self.fc(self.dropout(x_fc))\n",
        "\n",
        "        return logits"
      ],
      "metadata": {
        "id": "0_tKA95EH4OG"
      },
      "execution_count": null,
      "outputs": []
    },
    {
      "cell_type": "code",
      "source": [
        "def initilize_model(pretrained_embedding=None,\n",
        "                    freeze_embedding=False,\n",
        "                    vocab_size=None,\n",
        "                    embed_dim=300,\n",
        "                    filter_sizes=[3, 4, 5],\n",
        "                    num_filters=[100, 100, 100],\n",
        "                    num_classes=7,\n",
        "                    dropout=0.5,\n",
        "                    learning_rate=0.01):\n",
        "    \"\"\"Instantiate a CNN model and an optimizer.\"\"\"\n",
        "\n",
        "    assert (len(filter_sizes) == len(num_filters)), \"filter_sizes and \\\n",
        "    num_filters need to be of the same length.\"\n",
        "\n",
        "    # Instantiate CNN model\n",
        "    cnn_model = CNN_NLP(pretrained_embedding=pretrained_embedding,\n",
        "                        freeze_embedding=freeze_embedding,\n",
        "                        vocab_size=vocab_size,\n",
        "                        embed_dim=embed_dim,\n",
        "                        filter_sizes=filter_sizes,\n",
        "                        num_filters=num_filters,\n",
        "                        num_classes=7,\n",
        "                        dropout=0.5)\n",
        "    \n",
        "    # Send model to `device` (GPU/CPU)\n",
        "    cnn_model.to(device)\n",
        "\n",
        "    # Instantiate Adadelta optimizer\n",
        "    optimizer = optim.Adadelta(cnn_model.parameters(),\n",
        "                               lr=learning_rate,\n",
        "                               rho=0.95)\n",
        "\n",
        "    return cnn_model, optimizer"
      ],
      "metadata": {
        "id": "f7iSP4eoH_IZ"
      },
      "execution_count": null,
      "outputs": []
    },
    {
      "cell_type": "code",
      "source": [
        "# Specify loss function\n",
        "loss_fn = nn.CrossEntropyLoss()\n",
        "\n",
        "def set_seed(seed_value=42):\n",
        "    \"\"\"Set seed for reproducibility.\"\"\"\n",
        "\n",
        "    random.seed(seed_value)\n",
        "    np.random.seed(seed_value)\n",
        "    torch.manual_seed(seed_value)\n",
        "    torch.cuda.manual_seed_all(seed_value)\n",
        "\n",
        "def train(model, optimizer, train_dataloader, val_dataloader=None, epochs=20):\n",
        "    \"\"\"Train the CNN model.\"\"\"\n",
        "    \n",
        "    # Tracking best validation accuracy\n",
        "    best_accuracy = 0\n",
        "\n",
        "    # Start training loop\n",
        "    print(\"Start training...\\n\")\n",
        "    print(f\"{'Epoch':^7} | {'Train Loss':^12} | {'Val Loss':^10} | {'Val Acc':^9} | {'Elapsed':^9}\")\n",
        "    print(\"-\"*60)\n",
        "\n",
        "    for epoch_i in range(epochs):\n",
        "        # =======================================\n",
        "        #               Training\n",
        "        # =======================================\n",
        "\n",
        "        # Tracking time and loss\n",
        "        t0_epoch = time.time()\n",
        "        total_loss = 0\n",
        "\n",
        "        # Put the model into the training mode\n",
        "        model.train()\n",
        "\n",
        "        for step, batch in enumerate(train_dataloader):\n",
        "            # Load batch to GPU\n",
        "            b_input_ids, b_labels = tuple(t.to(device) for t in batch)\n",
        "\n",
        "            # Zero out any previously calculated gradients\n",
        "            model.zero_grad()\n",
        "\n",
        "            # Perform a forward pass. This will return logits.\n",
        "            logits = model(b_input_ids)\n",
        "\n",
        "            # Compute loss and accumulate the loss values\n",
        "            loss = loss_fn(logits, b_labels)\n",
        "            total_loss += loss.item()\n",
        "\n",
        "            # Perform a backward pass to calculate gradients\n",
        "            loss.backward()\n",
        "\n",
        "            # Update parameters\n",
        "            optimizer.step()\n",
        "\n",
        "        # Calculate the average loss over the entire training data\n",
        "        avg_train_loss = total_loss / len(train_dataloader)\n",
        "\n",
        "        # =======================================\n",
        "        #               Evaluation\n",
        "        # =======================================\n",
        "        if val_dataloader is not None:\n",
        "            # After the completion of each training epoch, measure the model's\n",
        "            # performance on our validation set.\n",
        "            val_loss, val_accuracy = evaluate(model, val_dataloader)\n",
        "\n",
        "            # Track the best accuracy\n",
        "            if val_accuracy > best_accuracy:\n",
        "                best_accuracy = val_accuracy\n",
        "\n",
        "            # Print performance over the entire training data\n",
        "            time_elapsed = time.time() - t0_epoch\n",
        "            print(f\"{epoch_i + 1:^7} | {avg_train_loss:^12.6f} | {val_loss:^10.6f} | {val_accuracy:^9.2f} | {time_elapsed:^9.2f}\")\n",
        "            \n",
        "    print(\"\\n\")\n",
        "    print(f\"Training complete! Best accuracy: {best_accuracy:.2f}%.\")\n",
        "\n",
        "def evaluate(model, val_dataloader):\n",
        "    \"\"\"After the completion of each training epoch, measure the model's\n",
        "    performance on our validation set.\n",
        "    \"\"\"\n",
        "    # Put the model into the evaluation mode. The dropout layers are disabled\n",
        "    # during the test time.\n",
        "    model.eval()\n",
        "\n",
        "    # Tracking variables\n",
        "    val_accuracy = []\n",
        "    val_loss = []\n",
        "\n",
        "    # For each batch in our validation set...\n",
        "    for batch in val_dataloader:\n",
        "        # Load batch to GPU\n",
        "        b_input_ids, b_labels = tuple(t.to(device) for t in batch)\n",
        "\n",
        "        # Compute logits\n",
        "        with torch.no_grad():\n",
        "            logits = model(b_input_ids)\n",
        "\n",
        "        # Compute loss\n",
        "        loss = loss_fn(logits, b_labels)\n",
        "        val_loss.append(loss.item())\n",
        "\n",
        "        # Get the predictions\n",
        "        preds = torch.argmax(logits, dim=1).flatten()\n",
        "\n",
        "        # Calculate the accuracy rate\n",
        "        accuracy = (preds == b_labels).cpu().numpy().mean() * 100\n",
        "        val_accuracy.append(accuracy)\n",
        "\n",
        "    # Compute the average accuracy and loss over the validation set.\n",
        "    val_loss = np.mean(val_loss)\n",
        "    val_accuracy = np.mean(val_accuracy)\n",
        "\n",
        "    return val_loss, val_accuracy"
      ],
      "metadata": {
        "id": "aSl5oLxDICfq"
      },
      "execution_count": null,
      "outputs": []
    },
    {
      "cell_type": "markdown",
      "source": [
        "##Paso 2: Entrenamiento (Caso Categoria)"
      ],
      "metadata": {
        "id": "R4b_EI0nG7Yr"
      }
    },
    {
      "cell_type": "code",
      "source": [
        "if torch.cuda.is_available():       \n",
        "    device = torch.device(\"cuda\")\n",
        "    print(f'There are {torch.cuda.device_count()} GPU(s) available.')\n",
        "    print('Device name:', torch.cuda.get_device_name(0))\n",
        "\n",
        "else:\n",
        "    print('No GPU available, using the CPU instead.')\n",
        "    device = torch.device(\"cpu\")\n",
        "\n",
        "#device = torch.device(\"cpu\")"
      ],
      "metadata": {
        "colab": {
          "base_uri": "https://localhost:8080/"
        },
        "id": "SdjAgtiSG7-p",
        "outputId": "00c856f5-21c0-4d16-a202-09c1f2b8e6ed"
      },
      "execution_count": null,
      "outputs": [
        {
          "output_type": "stream",
          "name": "stdout",
          "text": [
            "No GPU available, using the CPU instead.\n"
          ]
        }
      ]
    },
    {
      "cell_type": "markdown",
      "source": [
        "#### Modelo sin transfer Learning"
      ],
      "metadata": {
        "id": "vDKOHpfYILmq"
      }
    },
    {
      "cell_type": "code",
      "source": [
        "set_seed(42)\n",
        "mod1, optimizer = initilize_model(vocab_size=len(word2idx),\n",
        "                                      embed_dim=300,\n",
        "                                      learning_rate=0.25,\n",
        "                                      dropout=0.5)\n",
        "train(mod1, optimizer, train_dataloader, val_dataloader, epochs=20)"
      ],
      "metadata": {
        "id": "bwYVMLaeIOuk"
      },
      "execution_count": null,
      "outputs": []
    },
    {
      "cell_type": "markdown",
      "source": [
        "#### Modelos con FastText"
      ],
      "metadata": {
        "id": "9dld93G0IYPR"
      }
    },
    {
      "cell_type": "markdown",
      "source": [
        "##### Modelo basado en transfer learning con FastText descongelado"
      ],
      "metadata": {
        "id": "DIL6jaoxIa-_"
      }
    },
    {
      "cell_type": "code",
      "source": [
        "# CNN-non-static: fastText pretrained word vectors are fine-tuned during training. SGD optmin\n",
        "set_seed(42)\n",
        "cnn_FT_descongelado, optimizer = initilize_model(pretrained_embedding=embeddings_FastText,\n",
        "                                            freeze_embedding=False,\n",
        "                                            learning_rate=0.25,\n",
        "                                            dropout=0.5)\n",
        "train(cnn_FT_descongelado, optimizer, train_dataloader, val_dataloader, epochs=20)"
      ],
      "metadata": {
        "id": "EgUE0kTaIY0O"
      },
      "execution_count": null,
      "outputs": []
    },
    {
      "cell_type": "markdown",
      "source": [
        "##### Modelo basado en transfer learning con FastText congelado"
      ],
      "metadata": {
        "id": "1JchiciVItew"
      }
    },
    {
      "cell_type": "code",
      "source": [
        "# CNN-non-static: fastText pretrained word vectors are fine-tuned during training. SGD optmin\n",
        "set_seed(42)\n",
        "cnn_FT_congelado, optimizer = initilize_model(pretrained_embedding=embeddings_FastText,\n",
        "                                            freeze_embedding=True,\n",
        "                                            learning_rate=0.25,\n",
        "                                            dropout=0.5)\n",
        "train(cnn_FT_congelado, optimizer, train_dataloader, val_dataloader, epochs=20)"
      ],
      "metadata": {
        "id": "yB4ga6sCIuoF"
      },
      "execution_count": null,
      "outputs": []
    },
    {
      "cell_type": "markdown",
      "source": [
        "#### Modelos con Word2Vec"
      ],
      "metadata": {
        "id": "fhGhQYlXIxIg"
      }
    },
    {
      "cell_type": "markdown",
      "source": [
        "##### Modelo basado en transfer learning con Word2Vec descongelado"
      ],
      "metadata": {
        "id": "dlQdCJBCI0M0"
      }
    },
    {
      "cell_type": "code",
      "source": [
        "# CNN-non-static: fastText pretrained word vectors are fine-tuned during training. SGD optmin\n",
        "set_seed(42)\n",
        "cnn_W2V_descongelado, optimizer = initilize_model(pretrained_embedding=embeddings_Word2Vec,\n",
        "                                            freeze_embedding=False,\n",
        "                                            learning_rate=0.25,\n",
        "                                            dropout=0.5)\n",
        "train(cnn_W2V_descongelado, optimizer, train_dataloader, val_dataloader, epochs=20)"
      ],
      "metadata": {
        "id": "D9o8tGYyI0lj"
      },
      "execution_count": null,
      "outputs": []
    },
    {
      "cell_type": "markdown",
      "source": [
        "##### Modelo basado en transfer learning con Word2Vec congelado"
      ],
      "metadata": {
        "id": "oWKsStrXI0uC"
      }
    },
    {
      "cell_type": "code",
      "source": [
        "# CNN-non-static: fastText pretrained word vectors are fine-tuned during training. SGD optmin\n",
        "set_seed(42)\n",
        "cnn_W2V_congelado, optimizer = initilize_model(pretrained_embedding=embeddings_Word2Vec,\n",
        "                                            freeze_embedding=True,\n",
        "                                            learning_rate=0.25,\n",
        "                                            dropout=0.5)\n",
        "train(cnn_W2V_congelado, optimizer, train_dataloader, val_dataloader, epochs=20)"
      ],
      "metadata": {
        "id": "DrHspMESI007"
      },
      "execution_count": null,
      "outputs": []
    },
    {
      "cell_type": "markdown",
      "source": [
        "#### Modelos con Glove"
      ],
      "metadata": {
        "id": "b8vHLZy1I074"
      }
    },
    {
      "cell_type": "markdown",
      "source": [
        "##### Modelo basado en transfer learning con Glove descongelado"
      ],
      "metadata": {
        "id": "Qmxa9LYmJAMx"
      }
    },
    {
      "cell_type": "code",
      "source": [
        "set_seed(42)\n",
        "cnn_Glove_descongelado, optimizer = initilize_model(pretrained_embedding=embeddings_Glove,\n",
        "                                            freeze_embedding=False,\n",
        "                                            learning_rate=0.25,\n",
        "                                            dropout=0.5)\n",
        "train(cnn_Glove_descongelado, optimizer, train_dataloader, val_dataloader, epochs=20)"
      ],
      "metadata": {
        "id": "aF8xc1zBJA2e"
      },
      "execution_count": null,
      "outputs": []
    },
    {
      "cell_type": "markdown",
      "source": [
        "##### Modelo basado en transfer learning con Glove congelado"
      ],
      "metadata": {
        "id": "DRGD0eMvJA_H"
      }
    },
    {
      "cell_type": "code",
      "source": [
        "set_seed(42)\n",
        "cnn_Glove_congelado, optimizer = initilize_model(pretrained_embedding=embeddings_Glove,\n",
        "                                            freeze_embedding=True,\n",
        "                                            learning_rate=0.25,\n",
        "                                            dropout=0.5)\n",
        "train(cnn_Glove_congelado, optimizer, train_dataloader, val_dataloader, epochs=20)"
      ],
      "metadata": {
        "id": "hQA9IzpKJBE_"
      },
      "execution_count": null,
      "outputs": []
    },
    {
      "cell_type": "markdown",
      "source": [
        "## Paso 3: Evaluación de los mejores modelos"
      ],
      "metadata": {
        "id": "7EXFHuIJJBMk"
      }
    },
    {
      "cell_type": "code",
      "source": [],
      "metadata": {
        "id": "zuCYha0KI1BL"
      },
      "execution_count": null,
      "outputs": []
    }
  ]
}